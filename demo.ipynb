{
 "cells": [
  {
   "cell_type": "markdown",
   "metadata": {},
   "source": [
    "# 1. Introduction of ADMM pruning"
   ]
  },
  {
   "cell_type": "markdown",
   "metadata": {},
   "source": [
    "## 1.1 Introduction to ADMM\n",
    "The Alternating Direction Method of Multipliers (ADMM) is a strong optimization technique. It's especially useful for problems that can be broken down into simpler sub-problems. This method is perfect for dealing with nonconvex optimization problems with combinatorial constraints, like weight pruning in Deep Neural Networks (DNNs).\n",
    "\n",
    "ADMM is based on the method of multipliers, a way to solve constrained optimization problems. It uses the concept of the Lagrange multiplier, a strategy to find the highest and lowest points of a function under equality constraints. The Lagrange multiplier method introduces a new variable (the multiplier) for each constraint. It forms a Lagrangian function by adding the product of the multipliers and the constraints to the objective function. By finding the stable points of this Lagrangian function, we can find solutions to the constrained optimization problem.\n",
    "\n",
    "In the context of ADMM, the Lagrange multiplier adjusts the penalty for violating constraints. This helps balance the trade-off between meeting constraints and optimizing the original objective.\n",
    "\n",
    "## 1.2 Problem Formulation\n",
    "The weight pruning problem can be formulated as a nonconvex optimization problem with sparsity constraints:\n",
    "\n",
    "$$\n",
    "\\begin{aligned}\n",
    "& \\text{minimize}_{\\{W_i\\}, \\{b_i\\}} \\quad f(\\{W_i\\}, \\{b_i\\}) \\\\\n",
    "& \\text{subject to} \\quad \\text{card}(W_i) \\le l_i, \\quad i = 1, \\ldots, N \n",
    "\\end{aligned} \n",
    "$$\n",
    "\n",
    "Here, $ f(\\{W_i\\}, \\{b_i\\}) $ is the loss function of the DNN, and $\\text{card}(W_i) \\le l_i$ represents the sparsity constraint on the weights.\n",
    "\n",
    "## 2.3 Reformulation Using ADMM\n",
    "Reformulate this problem to fit the ADMM framework:\n",
    "\n",
    "$$\n",
    "\\begin{aligned}\n",
    "& \\text{minimize}_{\\{W_i\\}, \\{b_i\\}} \\quad f(\\{W_i\\}, \\{b_i\\}) + \\sum_{i=1}^N g_i(Z_i) \\\\\n",
    "& \\text{subject to} \\quad W_i = Z_i, \\quad i = 1, \\ldots, N \n",
    "\\end{aligned} \n",
    "$$\n",
    "\n",
    "where $ g_i(Z_i) $ is the indicator function for the set $ S_i = \\{W \\mid \\text{card}(W) \\le l_i\\} $:\n",
    "\n",
    "$$\n",
    "g_i(Z_i) = \n",
    "\\begin{cases} \n",
    "0 & \\text{if} \\quad \\text{card}(Z_i) \\le l_i \\\\\n",
    "+\\infty & \\text{otherwise} \n",
    "\\end{cases} \n",
    "$$\n",
    "\n",
    "## 2.4 Augmented Lagrangian\n",
    "The augmented Lagrangian for this problem is:\n",
    "\n",
    "$$\n",
    "\\begin{aligned}\n",
    "L_{\\rho}(\\{W_i\\}, \\{b_i\\}, \\{Z_i\\}, \\{\\Lambda_i\\}) &= f(\\{W_i\\}, \\{b_i\\}) + \\sum_{i=1}^N \\left( g_i(Z_i) + \\text{tr}(\\Lambda_i^T (W_i - Z_i)) + \\frac{\\rho}{2} \\|W_i - Z_i\\|_F^2 \\right) \n",
    "\\end{aligned} \n",
    "$$\n",
    "\n",
    "where $ \\{\\Lambda_i\\} $ are the Lagrange multipliers, and $\\rho$ is a penalty parameter.\n",
    "\n",
    "## 2.5 Explanation of the Augmented Lagrangian\n",
    "In this formulation, the augmented Lagrangian combines the original objective function with additional terms that enforce the equality constraints $W_i = Z_i$. The term $\\text{tr}(\\Lambda_i^T (W_i - Z_i))$ introduces the Lagrange multipliers to enforce these constraints, while the quadratic penalty term $\\frac{\\rho}{2} \\|W_i - Z_i\\|_F^2$ ensures that any violation of the constraints is penalized. This augmented Lagrangian facilitates the decomposition of the original problem into smaller subproblems that can be solved more efficiently.\n",
    "\n",
    "The ADMM algorithm iteratively updates the variables by solving these subproblems, alternating between updating the primal variables (weights $W_i$ and $Z_i$) and the dual variables (Lagrange multipliers $\\Lambda_i$). This approach leverages the structure of the problem, allowing for more efficient optimization compared to solving the original problem directly.\n",
    "\n",
    "## 2.6 ADMM Iterations\n",
    "The ADMM algorithm proceeds iteratively with the following steps:\n",
    "\n",
    "1. **Update $ W_i $ and $ b_i $**:\n",
    "\n",
    "$$\n",
    "\\{W_i^{k+1}, b_i^{k+1}\\} = \\arg \\min_{\\{W_i\\}, \\{b_i\\}} \\left( f(\\{W_i\\}, \\{b_i\\}) + \\frac{\\rho}{2} \\|W_i - Z_i^k + U_i^k\\|_F^2 \\right) \n",
    "$$\n",
    "\n",
    "2. **Update $ Z_i $**:\n",
    "\n",
    "$$\n",
    "Z_i^{k+1} = \\arg \\min_{Z_i} \\left( g_i(Z_i) + \\frac{\\rho}{2} \\|W_i^{k+1} - Z_i + U_i^k\\|_F^2 \\right) \n",
    "$$\n",
    "\n",
    "Since $g_i(Z_i)$ is the indicator function, this update is equivalent to:\n",
    "\n",
    "$$\n",
    "Z_i^{k+1} = \\Pi_{S_i}(W_i^{k+1} + U_i^k) \n",
    "$$\n",
    "\n",
    "where $ \\Pi_{S_i} $ denotes the projection onto the set $ S_i $.\n",
    "\n",
    "3. **Update Dual Variables $ U_i $**:\n",
    "\n",
    "$$\n",
    "U_i^{k+1} = U_i^k + W_i^{k+1} - Z_i^{k+1} \n",
    "$$\n",
    "\n",
    "## 2.7 Convergence Criteria\n",
    "The iterations continue until the following conditions are satisfied:\n",
    "\n",
    "$$\n",
    "\\|W_i^{k+1} - Z_i^{k+1}\\|_F \\le \\epsilon_i, \\quad \\|Z_i^{k+1} - Z_i^k\\|_F \\le \\epsilon_i \n",
    "$$\n",
    "\n",
    "## 2.8 Conclusion\n",
    "ADMM provides a systematic framework for weight pruning in DNNs. It achieves higher compression ratios and faster convergence compared to heuristic methods. The experiments on models like LeNet-5 and AlexNet demonstrate significant weight reductions without accuracy loss.\n"
   ]
  },
  {
   "cell_type": "markdown",
   "metadata": {},
   "source": [
    "# 2. AlexNet"
   ]
  },
  {
   "cell_type": "markdown",
   "metadata": {},
   "source": [
    "## 2.1 Define the Network"
   ]
  },
  {
   "cell_type": "code",
   "execution_count": 5,
   "metadata": {},
   "outputs": [],
   "source": [
    "# Import essential modules\n",
    "import sys\n",
    "sys.path.append('src')\n",
    "import numpy as np\n",
    "import torch\n",
    "import torch.nn as nn\n",
    "import torch.optim as optim\n",
    "from torch.utils.data import DataLoader, TensorDataset\n",
    "from torchvision import datasets, transforms\n",
    "from torchvision.datasets import MNIST\n",
    "import matplotlib.pyplot as plt\n",
    "\n",
    "from dataloader.ImageNet_dataloader import ImageNetDataLoader\n",
    "from dataloader.CIFAR_dataloader import CIFARDataLoader\n",
    "\n",
    "from SimplePruning_Toolbox import admm_pruning\n",
    "from SimplePruning_Toolbox.utils import train, evaluate, count_nonzero_params\n",
    "\n",
    "from AlexNet import AlexNet\n",
    "from LeNet_5 import LeNet5\n",
    "from VGG_8 import VGG_8\n",
    "\n",
    "# Import summary writer\n",
    "from torchsummary import summary"
   ]
  },
  {
   "cell_type": "code",
   "execution_count": 6,
   "metadata": {},
   "outputs": [],
   "source": [
    "# Set the device\n",
    "if torch.cuda.is_available():\n",
    "    device = torch.device('cuda')\n",
    "elif torch.backends.mps.is_available():\n",
    "    device = torch.device('mps')\n",
    "else:\n",
    "    device = torch.device('cpu')"
   ]
  },
  {
   "cell_type": "markdown",
   "metadata": {},
   "source": [
    "![AlexNet](images/AlexNet_architecture.png)"
   ]
  },
  {
   "cell_type": "code",
   "execution_count": 4,
   "metadata": {},
   "outputs": [],
   "source": [
    "# Define AlexNet Network\n",
    "model_AlexNet = AlexNet()"
   ]
  },
  {
   "cell_type": "code",
   "execution_count": 9,
   "metadata": {},
   "outputs": [
    {
     "name": "stdout",
     "output_type": "stream",
     "text": [
      "==========================================================================================\n",
      "Layer (type:depth-idx)                   Output Shape              Param #\n",
      "==========================================================================================\n",
      "├─Sequential: 1-1                        [-1, 256, 2, 2]           --\n",
      "|    └─Conv2d: 2-1                       [-1, 64, 16, 16]          1,792\n",
      "|    └─ReLU: 2-2                         [-1, 64, 16, 16]          --\n",
      "|    └─MaxPool2d: 2-3                    [-1, 64, 8, 8]            --\n",
      "|    └─Conv2d: 2-4                       [-1, 192, 8, 8]           110,784\n",
      "|    └─ReLU: 2-5                         [-1, 192, 8, 8]           --\n",
      "|    └─MaxPool2d: 2-6                    [-1, 192, 4, 4]           --\n",
      "|    └─Conv2d: 2-7                       [-1, 384, 4, 4]           663,936\n",
      "|    └─ReLU: 2-8                         [-1, 384, 4, 4]           --\n",
      "|    └─Conv2d: 2-9                       [-1, 256, 4, 4]           884,992\n",
      "|    └─ReLU: 2-10                        [-1, 256, 4, 4]           --\n",
      "|    └─Conv2d: 2-11                      [-1, 256, 4, 4]           590,080\n",
      "|    └─ReLU: 2-12                        [-1, 256, 4, 4]           --\n",
      "|    └─MaxPool2d: 2-13                   [-1, 256, 2, 2]           --\n",
      "├─Sequential: 1-2                        [-1, 10]                  --\n",
      "|    └─Dropout: 2-14                     [-1, 1024]                --\n",
      "|    └─Linear: 2-15                      [-1, 4096]                4,198,400\n",
      "|    └─ReLU: 2-16                        [-1, 4096]                --\n",
      "|    └─Dropout: 2-17                     [-1, 4096]                --\n",
      "|    └─Linear: 2-18                      [-1, 4096]                16,781,312\n",
      "|    └─ReLU: 2-19                        [-1, 4096]                --\n",
      "|    └─Linear: 2-20                      [-1, 10]                  40,970\n",
      "==========================================================================================\n",
      "Total params: 23,272,266\n",
      "Trainable params: 23,272,266\n",
      "Non-trainable params: 0\n",
      "Total mult-adds (M): 86.01\n",
      "==========================================================================================\n",
      "Input size (MB): 0.01\n",
      "Forward/backward pass size (MB): 0.39\n",
      "Params size (MB): 88.78\n",
      "Estimated Total Size (MB): 89.18\n",
      "==========================================================================================\n"
     ]
    },
    {
     "data": {
      "text/plain": [
       "==========================================================================================\n",
       "Layer (type:depth-idx)                   Output Shape              Param #\n",
       "==========================================================================================\n",
       "├─Sequential: 1-1                        [-1, 256, 2, 2]           --\n",
       "|    └─Conv2d: 2-1                       [-1, 64, 16, 16]          1,792\n",
       "|    └─ReLU: 2-2                         [-1, 64, 16, 16]          --\n",
       "|    └─MaxPool2d: 2-3                    [-1, 64, 8, 8]            --\n",
       "|    └─Conv2d: 2-4                       [-1, 192, 8, 8]           110,784\n",
       "|    └─ReLU: 2-5                         [-1, 192, 8, 8]           --\n",
       "|    └─MaxPool2d: 2-6                    [-1, 192, 4, 4]           --\n",
       "|    └─Conv2d: 2-7                       [-1, 384, 4, 4]           663,936\n",
       "|    └─ReLU: 2-8                         [-1, 384, 4, 4]           --\n",
       "|    └─Conv2d: 2-9                       [-1, 256, 4, 4]           884,992\n",
       "|    └─ReLU: 2-10                        [-1, 256, 4, 4]           --\n",
       "|    └─Conv2d: 2-11                      [-1, 256, 4, 4]           590,080\n",
       "|    └─ReLU: 2-12                        [-1, 256, 4, 4]           --\n",
       "|    └─MaxPool2d: 2-13                   [-1, 256, 2, 2]           --\n",
       "├─Sequential: 1-2                        [-1, 10]                  --\n",
       "|    └─Dropout: 2-14                     [-1, 1024]                --\n",
       "|    └─Linear: 2-15                      [-1, 4096]                4,198,400\n",
       "|    └─ReLU: 2-16                        [-1, 4096]                --\n",
       "|    └─Dropout: 2-17                     [-1, 4096]                --\n",
       "|    └─Linear: 2-18                      [-1, 4096]                16,781,312\n",
       "|    └─ReLU: 2-19                        [-1, 4096]                --\n",
       "|    └─Linear: 2-20                      [-1, 10]                  40,970\n",
       "==========================================================================================\n",
       "Total params: 23,272,266\n",
       "Trainable params: 23,272,266\n",
       "Non-trainable params: 0\n",
       "Total mult-adds (M): 86.01\n",
       "==========================================================================================\n",
       "Input size (MB): 0.01\n",
       "Forward/backward pass size (MB): 0.39\n",
       "Params size (MB): 88.78\n",
       "Estimated Total Size (MB): 89.18\n",
       "=========================================================================================="
      ]
     },
     "execution_count": 9,
     "metadata": {},
     "output_type": "execute_result"
    }
   ],
   "source": [
    "# Summary of AlexNet\n",
    "summary(model_AlexNet, (3, 32, 32))"
   ]
  },
  {
   "cell_type": "markdown",
   "metadata": {},
   "source": [
    "![AlexNet_training](images/AlexNet_training.png)"
   ]
  },
  {
   "cell_type": "code",
   "execution_count": 8,
   "metadata": {},
   "outputs": [
    {
     "name": "stdout",
     "output_type": "stream",
     "text": [
      "Files already downloaded and verified\n",
      "Files already downloaded and verified\n",
      "torch.Size([10, 3, 32, 32])\n"
     ]
    },
    {
     "data": {
      "image/png": "[encoded data removed]",
      "text/plain": [
       "<Figure size 1080x432 with 10 Axes>"
      ]
     },
     "metadata": {
      "needs_background": "light"
     },
     "output_type": "display_data"
    }
   ],
   "source": [
    "#Load and Visialize ImageNet dataloader\n",
    "batch_size = 800\n",
    "img_size = 224\n",
    "\n",
    "# Load data for training\n",
    "train_loader = torch.utils.data.DataLoader(\n",
    "            datasets.CIFAR10('data', train=True, download=True,\n",
    "                             transform=transforms.Compose([\n",
    "                                 transforms.ToTensor(),\n",
    "                                 transforms.Normalize((0.49139968, 0.48215827, 0.44653124),\n",
    "                                                      (0.24703233, 0.24348505, 0.26158768))\n",
    "                             ])), shuffle=True, batch_size=batch_size)\n",
    "\n",
    "# Load data for testing\n",
    "test_loader = torch.utils.data.DataLoader(\n",
    "            datasets.CIFAR10('data', train=False, download=True,\n",
    "                             transform=transforms.Compose([\n",
    "                                 transforms.ToTensor(),\n",
    "                                 transforms.Normalize((0.49139968, 0.48215827, 0.44653124),\n",
    "                                                      (0.24703233, 0.24348505, 0.26158768))\n",
    "                             ])), shuffle=True, batch_size=batch_size)\n",
    "\n",
    "dataiter = iter(test_loader)\n",
    "images, labels = next(dataiter)\n",
    "\n",
    "# Get the first 10 images and labels from the batch\n",
    "images = images[:10]\n",
    "labels = labels[:10]\n",
    "\n",
    "# Conver to cpu and numpy\n",
    "images = images.cpu().numpy()\n",
    "images = images.transpose(0, 2, 3, 1)\n",
    "\n",
    "images = (images - images.min()) / (images.max() - images.min())\n",
    "\n",
    "# Compose the 10 images into a single plot\n",
    "fig, axes = plt.subplots(2, 5, figsize=(15, 6))\n",
    "for i, ax in enumerate(axes.flat):\n",
    "    ax.imshow(images[i])\n",
    "    ax.set_title(f'Label: {labels[i].item()}')\n",
    "    ax.axis('off')\n",
    "plt.tight_layout()\n",
    "plt.show()"
   ]
  },
  {
   "cell_type": "code",
   "execution_count": 10,
   "metadata": {},
   "outputs": [
    {
     "name": "stdout",
     "output_type": "stream",
     "text": [
      "Original model, Test Loss: 2.3362, Accuracy: 0.7078\n"
     ]
    }
   ],
   "source": [
    "# Display Un-pruned evaluation results\n",
    "model_AlexNet.load_state_dict(torch.load('src/AlexNet/best_model.pth'))\n",
    "test_loss, accuracy = evaluate(model_AlexNet, test_loader, device, nn.CrossEntropyLoss())\n",
    "print(f'Original model, Test Loss: {test_loss:.4f}, Accuracy: {accuracy:.4f}')"
   ]
  },
  {
   "cell_type": "markdown",
   "metadata": {},
   "source": [
    "## 2.2 Pruning"
   ]
  },
  {
   "cell_type": "code",
   "execution_count": 11,
   "metadata": {},
   "outputs": [
    {
     "name": "stdout",
     "output_type": "stream",
     "text": [
      "Epoch 1/10\n",
      "normalized norm of (weight - projection)\n",
      "(features.0.weight): 0.6789\n",
      "(features.3.weight): 0.7027\n",
      "(features.6.weight): 0.6619\n",
      "(features.8.weight): 0.7247\n",
      "(features.10.weight): 0.7841\n",
      "(classifier.1.weight): 0.9215\n",
      "(classifier.4.weight): 0.8836\n",
      "(classifier.6.weight): 0.4313\n",
      "Test Loss: 4.1955, Accuracy: 0.1000\n",
      "Epoch 2/10\n",
      "normalized norm of (weight - projection)\n",
      "(features.0.weight): 0.2342\n",
      "(features.3.weight): 0.2377\n",
      "(features.6.weight): 0.3289\n",
      "(features.8.weight): 0.3159\n",
      "(features.10.weight): 0.4033\n",
      "(classifier.1.weight): 0.7504\n",
      "(classifier.4.weight): 0.8065\n",
      "(classifier.6.weight): 0.1707\n",
      "Test Loss: 3.5642, Accuracy: 0.1000\n",
      "Epoch 3/10\n",
      "normalized norm of (weight - projection)\n",
      "(features.0.weight): 0.3343\n",
      "(features.3.weight): 0.2494\n",
      "(features.6.weight): 0.2414\n",
      "(features.8.weight): 0.2455\n",
      "(features.10.weight): 0.2824\n",
      "(classifier.1.weight): 0.5080\n",
      "(classifier.4.weight): 0.4663\n",
      "(classifier.6.weight): 0.1121\n",
      "Test Loss: 3.3132, Accuracy: 0.1044\n",
      "Epoch 4/10\n",
      "normalized norm of (weight - projection)\n",
      "(features.0.weight): 0.3852\n",
      "(features.3.weight): 0.2819\n",
      "(features.6.weight): 0.2518\n",
      "(features.8.weight): 0.2560\n",
      "(features.10.weight): 0.2755\n",
      "(classifier.1.weight): 0.4304\n",
      "(classifier.4.weight): 0.3627\n",
      "(classifier.6.weight): 0.0927\n",
      "Test Loss: 3.1307, Accuracy: 0.1619\n",
      "Epoch 5/10\n",
      "normalized norm of (weight - projection)\n",
      "(features.0.weight): 0.4489\n",
      "(features.3.weight): 0.3047\n",
      "(features.6.weight): 0.2657\n",
      "(features.8.weight): 0.2637\n",
      "(features.10.weight): 0.2893\n",
      "(classifier.1.weight): 0.3824\n",
      "(classifier.4.weight): 0.3058\n",
      "(classifier.6.weight): 0.0814\n",
      "Test Loss: 2.9834, Accuracy: 0.2443\n",
      "Epoch 6/10\n",
      "normalized norm of (weight - projection)\n",
      "(features.0.weight): 0.4849\n",
      "(features.3.weight): 0.3240\n",
      "(features.6.weight): 0.2848\n",
      "(features.8.weight): 0.2831\n",
      "(features.10.weight): 0.2974\n",
      "(classifier.1.weight): 0.3575\n",
      "(classifier.4.weight): 0.2735\n",
      "(classifier.6.weight): 0.0778\n",
      "Test Loss: 2.9008, Accuracy: 0.2729\n",
      "Epoch 7/10\n",
      "normalized norm of (weight - projection)\n",
      "(features.0.weight): 0.5020\n",
      "(features.3.weight): 0.3366\n",
      "(features.6.weight): 0.2964\n",
      "(features.8.weight): 0.2882\n",
      "(features.10.weight): 0.2999\n",
      "(classifier.1.weight): 0.3360\n",
      "(classifier.4.weight): 0.2572\n",
      "(classifier.6.weight): 0.0750\n",
      "Test Loss: 2.6717, Accuracy: 0.3834\n",
      "Epoch 8/10\n",
      "normalized norm of (weight - projection)\n",
      "(features.0.weight): 0.4909\n",
      "(features.3.weight): 0.3542\n",
      "(features.6.weight): 0.3099\n",
      "(features.8.weight): 0.3040\n",
      "(features.10.weight): 0.3080\n",
      "(classifier.1.weight): 0.3351\n",
      "(classifier.4.weight): 0.2515\n",
      "(classifier.6.weight): 0.0719\n",
      "Test Loss: 2.5205, Accuracy: 0.4461\n",
      "Epoch 9/10\n",
      "normalized norm of (weight - projection)\n",
      "(features.0.weight): 0.4855\n",
      "(features.3.weight): 0.3567\n",
      "(features.6.weight): 0.3204\n",
      "(features.8.weight): 0.3130\n",
      "(features.10.weight): 0.3098\n",
      "(classifier.1.weight): 0.3282\n",
      "(classifier.4.weight): 0.2423\n",
      "(classifier.6.weight): 0.0701\n",
      "Test Loss: 2.4101, Accuracy: 0.4782\n",
      "Epoch 10/10\n",
      "normalized norm of (weight - projection)\n",
      "(features.0.weight): 0.4582\n",
      "(features.3.weight): 0.3665\n",
      "(features.6.weight): 0.3258\n",
      "(features.8.weight): 0.3198\n",
      "(features.10.weight): 0.3096\n",
      "(classifier.1.weight): 0.3252\n",
      "(classifier.4.weight): 0.2374\n",
      "(classifier.6.weight): 0.0677\n",
      "Test Loss: 2.2863, Accuracy: 0.5332\n",
      "Pruned model, Test Loss: 1.4792, Accuracy: 0.5035\n"
     ]
    }
   ],
   "source": [
    "# Apply ADMM pruning method to AlexNet\n",
    "model2 = AlexNet()\n",
    "percent = [0.8, 0.92, 0.93, 0.94, 0.95, 0.99, 0.99, 0.93]\n",
    "model2.load_state_dict(torch.load('best_model_AlexNet.pth'))\n",
    "pruned_model, mask = admm_pruning(model2, train_loader, percent)\n",
    "test_loss, accuracy = evaluate(pruned_model, test_loader, device, criterion = nn.CrossEntropyLoss())\n",
    "print(f'Pruned model, Test Loss: {test_loss:.4f}, Accuracy: {accuracy:.4f}')"
   ]
  },
  {
   "cell_type": "code",
   "execution_count": 13,
   "metadata": {},
   "outputs": [
    {
     "name": "stdout",
     "output_type": "stream",
     "text": [
      "Number of nonzero parameters in original model: 23272266\n",
      "Number of nonzero parameters in pruned model: 360159\n",
      "Percentage of weights pruned: 98.45%\n"
     ]
    },
    {
     "data": {
      "image/png": "[encoded data removed]",
      "text/plain": [
       "<Figure size 864x432 with 2 Axes>"
      ]
     },
     "metadata": {
      "needs_background": "light"
     },
     "output_type": "display_data"
    }
   ],
   "source": [
    "# Visualize model parameter changes and model size changes of AlexNet\n",
    "from SimplePruning_Toolbox.utils import count_nonzero_params\n",
    "print(f'Number of nonzero parameters in original model: {count_nonzero_params(model_AlexNet)}')\n",
    "print(f'Number of nonzero parameters in pruned model: {count_nonzero_params(pruned_model)}')\n",
    "\n",
    "# Plot the distribution of weights in the original and pruned models\n",
    "weights_leorignal = []\n",
    "weights_lepruned = []\n",
    "for param in model_AlexNet.parameters():\n",
    "    weights_leorignal += list(param.cpu().detach().numpy().flatten())\n",
    "for param in pruned_model.parameters():\n",
    "    weights_lepruned += list(param.cpu().detach().numpy().flatten())\n",
    "\n",
    "# Show the percentage of weights that are pruned\n",
    "print(f'Percentage of weights pruned: {(1 - count_nonzero_params(pruned_model) / count_nonzero_params(model_AlexNet)) * 100:.2f}%')\n",
    "\n",
    "plt.figure(figsize=(12, 6))\n",
    "plt.subplot(1, 2, 1)\n",
    "plt.hist(weights_leorignal, bins=50)\n",
    "plt.xlabel('Weight Values')\n",
    "plt.ylabel('Count')\n",
    "plt.title('Distribution of Weight Values in the Original Model')\n",
    "plt.xlim([-1, 1])\n",
    "\n",
    "plt.subplot(1, 2, 2)  \n",
    "plt.hist(weights_lepruned, bins=50)\n",
    "plt.xlabel('Weight Values')\n",
    "plt.ylabel('Count')\n",
    "plt.title('Distribution of Weight Values in the Pruned Model')\n",
    "plt.xlim([-1, 1])\n",
    "\n",
    "plt.tight_layout()\n",
    "plt.show()"
   ]
  },
  {
   "cell_type": "code",
   "execution_count": 14,
   "metadata": {},
   "outputs": [
    {
     "name": "stdout",
     "output_type": "stream",
     "text": [
      "Epoch: 1, Test Loss: 1.4374, Accuracy: 0.5241\n",
      "Epoch: 2, Test Loss: 1.3424, Accuracy: 0.5564\n",
      "Epoch: 3, Test Loss: 1.2949, Accuracy: 0.5751\n",
      "Epoch: 4, Test Loss: 1.2554, Accuracy: 0.5838\n",
      "Epoch: 5, Test Loss: 1.2031, Accuracy: 0.5976\n",
      "Epoch: 6, Test Loss: 1.1846, Accuracy: 0.6043\n",
      "Epoch: 7, Test Loss: 1.1535, Accuracy: 0.6100\n",
      "Epoch: 8, Test Loss: 1.1379, Accuracy: 0.6147\n",
      "Epoch: 9, Test Loss: 1.1098, Accuracy: 0.6227\n",
      "Epoch: 10, Test Loss: 1.0995, Accuracy: 0.6263\n"
     ]
    }
   ],
   "source": [
    "#Retrain the model of AlexNet\n",
    "fine_tune_epochs = 10\n",
    "optimizer = optim.Adam(pruned_model.parameters(), lr=1e-3)\n",
    "for epoch in range(fine_tune_epochs):\n",
    "    train(pruned_model, train_loader, device, optimizer=optimizer, criterion = nn.CrossEntropyLoss(), mask = mask)\n",
    "    test_loss, accuracy = evaluate(pruned_model, test_loader, device, criterion = nn.CrossEntropyLoss())\n",
    "    print(f'Epoch: {epoch + 1}, Test Loss: {test_loss:.4f}, Accuracy: {accuracy:.4f}')\n",
    "\n",
    "# Save the pruned model\n",
    "torch.save(pruned_model.state_dict(), 'pruned_model_AlexNet.pth')"
   ]
  },
  {
   "cell_type": "code",
   "execution_count": 22,
   "metadata": {},
   "outputs": [
    {
     "name": "stdout",
     "output_type": "stream",
     "text": [
      "Percentage of weights pruned: 99.97%\n"
     ]
    },
    {
     "data": {
      "image/png": "[encoded data removed]",
      "text/plain": [
       "<Figure size 864x432 with 2 Axes>"
      ]
     },
     "metadata": {
      "needs_background": "light"
     },
     "output_type": "display_data"
    }
   ],
   "source": [
    "# Display the pruned results after fine-tuning\n",
    "weights_leorignal = []\n",
    "weights_lepruned = []\n",
    "for param in model_AlexNet.parameters():\n",
    "    weights_leorignal += list(param.cpu().detach().numpy().flatten())\n",
    "for param in pruned_model.parameters():\n",
    "    weights_lepruned += list(param.cpu().detach().numpy().flatten())\n",
    "\n",
    "# Show the percentage of weights that are pruned\n",
    "print(f'Percentage of weights pruned: {(1 - count_nonzero_params(pruned_model) / count_nonzero_params(model_AlexNet)) * 100:.2f}%')\n",
    "\n",
    "plt.figure(figsize=(12, 6))\n",
    "plt.subplot(1, 2, 1)\n",
    "plt.hist(weights_leorignal, bins=50)\n",
    "plt.xlabel('Weight Values')\n",
    "plt.ylabel('Count')\n",
    "plt.title('Distribution of Weight Values in the Original Model')\n",
    "plt.xlim([-1, 1])\n",
    "\n",
    "plt.subplot(1, 2, 2)\n",
    "plt.hist(weights_lepruned, bins=50)\n",
    "plt.xlabel('Weight Values')\n",
    "plt.ylabel('Count')\n",
    "plt.title('Distribution of Weight Values in the Pruned Model')\n",
    "plt.xlim([-1, 1])\n",
    "\n",
    "plt.tight_layout()\n",
    "plt.show()\n"
   ]
  },
  {
   "cell_type": "markdown",
   "metadata": {},
   "source": [
    "Comparison of origianl and pruned AlexNet\n",
    "|  | Pretrained Model | Pruned Model | Retrained Model | Pruning Ratio |\n",
    "|---------|---------|---------|---------|---------|\n",
    "| Size |23272266  | 360159 | 360159 | 99.97% | \n",
    "| Accuracy | 0.7078 | 0.4389 | 0.6263 | - | \n"
   ]
  },
  {
   "cell_type": "markdown",
   "metadata": {},
   "source": [
    "# Part 3 - LeNet"
   ]
  },
  {
   "cell_type": "markdown",
   "metadata": {},
   "source": [
    "![Lenet](images/lenet_5.png)"
   ]
  },
  {
   "cell_type": "markdown",
   "metadata": {},
   "source": [
    "## 3.1 Define the Network"
   ]
  },
  {
   "cell_type": "code",
   "execution_count": 23,
   "metadata": {},
   "outputs": [
    {
     "name": "stdout",
     "output_type": "stream",
     "text": [
      "==========================================================================================\n",
      "Layer (type:depth-idx)                   Output Shape              Param #\n",
      "==========================================================================================\n",
      "├─Conv2d: 1-1                            [-1, 20, 24, 24]          520\n",
      "├─Conv2d: 1-2                            [-1, 50, 8, 8]            25,050\n",
      "├─Linear: 1-3                            [-1, 500]                 400,500\n",
      "├─Dropout: 1-4                           [-1, 500]                 --\n",
      "├─Linear: 1-5                            [-1, 10]                  5,010\n",
      "==========================================================================================\n",
      "Total params: 431,080\n",
      "Trainable params: 431,080\n",
      "Non-trainable params: 0\n",
      "Total mult-adds (M): 2.29\n",
      "==========================================================================================\n",
      "Input size (MB): 0.00\n",
      "Forward/backward pass size (MB): 0.12\n",
      "Params size (MB): 1.64\n",
      "Estimated Total Size (MB): 1.76\n",
      "==========================================================================================\n"
     ]
    },
    {
     "data": {
      "text/plain": [
       "==========================================================================================\n",
       "Layer (type:depth-idx)                   Output Shape              Param #\n",
       "==========================================================================================\n",
       "├─Conv2d: 1-1                            [-1, 20, 24, 24]          520\n",
       "├─Conv2d: 1-2                            [-1, 50, 8, 8]            25,050\n",
       "├─Linear: 1-3                            [-1, 500]                 400,500\n",
       "├─Dropout: 1-4                           [-1, 500]                 --\n",
       "├─Linear: 1-5                            [-1, 10]                  5,010\n",
       "==========================================================================================\n",
       "Total params: 431,080\n",
       "Trainable params: 431,080\n",
       "Non-trainable params: 0\n",
       "Total mult-adds (M): 2.29\n",
       "==========================================================================================\n",
       "Input size (MB): 0.00\n",
       "Forward/backward pass size (MB): 0.12\n",
       "Params size (MB): 1.64\n",
       "Estimated Total Size (MB): 1.76\n",
       "=========================================================================================="
      ]
     },
     "execution_count": 23,
     "metadata": {},
     "output_type": "execute_result"
    }
   ],
   "source": [
    "# Define LeNet-5 Network\n",
    "model_LeNet = LeNet5()\n",
    "\n",
    "# Summary of LeNet-5\n",
    "summary(model_LeNet, (1, 28, 28))"
   ]
  },
  {
   "cell_type": "code",
   "execution_count": 16,
   "metadata": {},
   "outputs": [
    {
     "data": {
      "image/png": "[encoded data removed]",
      "text/plain": [
       "<Figure size 1800x288 with 8 Axes>"
      ]
     },
     "metadata": {},
     "output_type": "display_data"
    }
   ],
   "source": [
    "# Load and Visialize MNIST dataloader\n",
    "batch_size = 256\n",
    "\n",
    "train_set = MNIST('./', download=True,\n",
    "        transform=transforms.Compose([\n",
    "        transforms.ToTensor(),\n",
    "]), train=True)\n",
    "train_loader = DataLoader(train_set, batch_size=batch_size, shuffle=True)\n",
    "\n",
    "test_set = MNIST('./', download=True,\n",
    "        transform=transforms.Compose([\n",
    "        transforms.ToTensor(),\n",
    "]), train=False)\n",
    "test_loader = DataLoader(test_set, batch_size=batch_size, shuffle=False)\n",
    "\n",
    "dataiter = iter(train_loader)\n",
    "images, labels = next(dataiter)\n",
    "images = images.numpy()\n",
    "\n",
    "# Plot the images\n",
    "fig = plt.figure(figsize=(25, 4))\n",
    "\n",
    "for idx in np.arange(8):\n",
    "    ax = fig.add_subplot(2, 4, idx+1, xticks=[], yticks=[])\n",
    "    ax.imshow(np.squeeze(images[idx]), cmap='gray')\n",
    "    ax.set_title(str(labels[idx].item()))\n",
    "\n",
    "plt.show()"
   ]
  },
  {
   "cell_type": "code",
   "execution_count": 17,
   "metadata": {},
   "outputs": [
    {
     "name": "stdout",
     "output_type": "stream",
     "text": [
      "Epoch 5 - Training loss: 0.0324\n",
      "Epoch 10 - Training loss: 0.0143\n",
      "Epoch 15 - Training loss: 0.0078\n",
      "Epoch 20 - Training loss: 0.0066\n",
      "Epoch 25 - Training loss: 0.0046\n",
      "Epoch 30 - Training loss: 0.0044\n"
     ]
    },
    {
     "data": {
      "image/png": "[encoded data removed]",
      "text/plain": [
       "<Figure size 720x360 with 1 Axes>"
      ]
     },
     "metadata": {
      "needs_background": "light"
     },
     "output_type": "display_data"
    }
   ],
   "source": [
    "# Train and Load Pre-trained Best Model parameters\n",
    "from SimplePruning_Toolbox.utils import train\n",
    "\n",
    "   \n",
    "epochs = 30\n",
    "best_loss = float('inf')\n",
    "losses = []\n",
    "\n",
    "for epoch in range(epochs):\n",
    "    avg_loss = train(model_LeNet, \n",
    "            train_loader, \n",
    "            device, \n",
    "            optimizer = optim.Adam(model_LeNet.parameters(), \n",
    "            lr=1e-3), \n",
    "            criterion = nn.CrossEntropyLoss(), mask=None)\n",
    "    if (epoch + 1) % 5 == 0:\n",
    "        print(f\"Epoch {epoch+1} - Training loss: {avg_loss:.4f}\")\n",
    "    losses.append(avg_loss)\n",
    "    if avg_loss < best_loss:\n",
    "        best_loss = avg_loss\n",
    "        torch.save(model_LeNet.state_dict(), 'best_model_LeNet.pth')\n",
    "plt.figure(figsize=(10, 5))\n",
    "plt.plot(losses)\n",
    "plt.xlabel('Epoch')\n",
    "plt.ylabel('Loss')\n",
    "plt.title('Training Loss per Epoch')\n",
    "plt.show()\n"
   ]
  },
  {
   "cell_type": "code",
   "execution_count": 18,
   "metadata": {},
   "outputs": [
    {
     "name": "stdout",
     "output_type": "stream",
     "text": [
      "Original model, Test Loss: 0.0299, Accuracy: 0.9940\n"
     ]
    }
   ],
   "source": [
    "# Display Un-pruned evaluation results\n",
    "model_LeNet.load_state_dict(torch.load('best_model_LeNet.pth'))\n",
    "test_loss, accuracy = evaluate(model_LeNet, test_loader, device, nn.CrossEntropyLoss())\n",
    "print(f'Original model, Test Loss: {test_loss:.4f}, Accuracy: {accuracy:.4f}')"
   ]
  },
  {
   "cell_type": "markdown",
   "metadata": {},
   "source": [
    "## 3.2 Pruning"
   ]
  },
  {
   "cell_type": "code",
   "execution_count": 19,
   "metadata": {},
   "outputs": [],
   "source": [
    "# Define ADMM Pruning method\n",
    "percent = [0.8, 0.92, 0.991, 0.93]"
   ]
  },
  {
   "cell_type": "code",
   "execution_count": 20,
   "metadata": {},
   "outputs": [
    {
     "name": "stdout",
     "output_type": "stream",
     "text": [
      "Epoch 1/10\n",
      "normalized norm of (weight - projection)\n",
      "(conv1.weight): 0.6316\n",
      "(conv2.weight): 0.7389\n",
      "(fc1.weight): 0.9438\n",
      "(fc2.weight): 0.7846\n",
      "Test Loss: 2.6817, Accuracy: 0.0964\n",
      "Epoch 2/10\n",
      "normalized norm of (weight - projection)\n",
      "(conv1.weight): 0.4189\n",
      "(conv2.weight): 0.4621\n",
      "(fc1.weight): 0.8658\n",
      "(fc2.weight): 0.3895\n",
      "Test Loss: 2.5661, Accuracy: 0.1267\n",
      "Epoch 3/10\n",
      "normalized norm of (weight - projection)\n",
      "(conv1.weight): 0.4536\n",
      "(conv2.weight): 0.4389\n",
      "(fc1.weight): 0.6795\n",
      "(fc2.weight): 0.3097\n",
      "Test Loss: 2.4489, Accuracy: 0.1534\n",
      "Epoch 4/10\n",
      "normalized norm of (weight - projection)\n",
      "(conv1.weight): 0.4394\n",
      "(conv2.weight): 0.4119\n",
      "(fc1.weight): 0.6521\n",
      "(fc2.weight): 0.2973\n",
      "Test Loss: 2.2810, Accuracy: 0.1787\n",
      "Epoch 5/10\n",
      "normalized norm of (weight - projection)\n",
      "(conv1.weight): 0.3994\n",
      "(conv2.weight): 0.3791\n",
      "(fc1.weight): 0.6654\n",
      "(fc2.weight): 0.2821\n",
      "Test Loss: 2.0927, Accuracy: 0.2923\n",
      "Epoch 6/10\n",
      "normalized norm of (weight - projection)\n",
      "(conv1.weight): 0.3751\n",
      "(conv2.weight): 0.3604\n",
      "(fc1.weight): 0.6790\n",
      "(fc2.weight): 0.3056\n",
      "Test Loss: 1.8970, Accuracy: 0.4273\n",
      "Epoch 7/10\n",
      "normalized norm of (weight - projection)\n",
      "(conv1.weight): 0.3548\n",
      "(conv2.weight): 0.3438\n",
      "(fc1.weight): 0.6824\n",
      "(fc2.weight): 0.2773\n",
      "Test Loss: 1.6989, Accuracy: 0.5612\n",
      "Epoch 8/10\n",
      "normalized norm of (weight - projection)\n",
      "(conv1.weight): 0.3260\n",
      "(conv2.weight): 0.3217\n",
      "(fc1.weight): 0.6995\n",
      "(fc2.weight): 0.2956\n",
      "Test Loss: 1.4876, Accuracy: 0.7049\n",
      "Epoch 9/10\n",
      "normalized norm of (weight - projection)\n",
      "(conv1.weight): 0.2914\n",
      "(conv2.weight): 0.3128\n",
      "(fc1.weight): 0.6989\n",
      "(fc2.weight): 0.2736\n",
      "Test Loss: 1.2902, Accuracy: 0.7974\n",
      "Epoch 10/10\n",
      "normalized norm of (weight - projection)\n",
      "(conv1.weight): 0.2534\n",
      "(conv2.weight): 0.2912\n",
      "(fc1.weight): 0.7030\n",
      "(fc2.weight): 0.2855\n",
      "Test Loss: 1.1248, Accuracy: 0.8513\n",
      "Pruned model, Test Loss: 0.7329, Accuracy: 0.8556\n"
     ]
    }
   ],
   "source": [
    "# Apply ADMM pruning method to LeNet-5\n",
    "model2 = LeNet5()\n",
    "train_set = MNIST('./', download=True,\n",
    "        transform=transforms.Compose([\n",
    "        transforms.ToTensor(),\n",
    "]), train=True)\n",
    "train_loader = DataLoader(train_set, batch_size=batch_size, shuffle=True)\n",
    "\n",
    "test_set = MNIST('./', download=True,\n",
    "        transform=transforms.Compose([\n",
    "        transforms.ToTensor(),\n",
    "]), train=False)\n",
    "test_loader = DataLoader(test_set, batch_size=batch_size, shuffle=False)\n",
    "model2.load_state_dict(torch.load('best_model_LeNet.pth'))\n",
    "pruned_model, mask = admm_pruning(model2, train_loader, percent)\n",
    "test_loss, accuracy = evaluate(pruned_model, test_loader, device, criterion = nn.CrossEntropyLoss())\n",
    "print(f'Pruned model, Test Loss: {test_loss:.4f}, Accuracy: {accuracy:.4f}')\n"
   ]
  },
  {
   "cell_type": "code",
   "execution_count": 21,
   "metadata": {},
   "outputs": [
    {
     "name": "stdout",
     "output_type": "stream",
     "text": [
      "Number of nonzero parameters in original model: 431080\n",
      "Number of nonzero parameters in pruned model: 6630\n",
      "Percentage of weights pruned: 98.46%\n"
     ]
    },
    {
     "data": {
      "image/png": "[encoded data removed]",
      "text/plain": [
       "<Figure size 864x432 with 2 Axes>"
      ]
     },
     "metadata": {
      "needs_background": "light"
     },
     "output_type": "display_data"
    }
   ],
   "source": [
    "# Visualize model parameter changes and model size changes of LeNet-5\n",
    "print(f'Number of nonzero parameters in original model: {count_nonzero_params(model_LeNet)}')\n",
    "print(f'Number of nonzero parameters in pruned model: {count_nonzero_params(pruned_model)}')\n",
    "\n",
    "# Show the percentage of weights that are pruned\n",
    "print(f'Percentage of weights pruned: {(1 - count_nonzero_params(pruned_model) / count_nonzero_params(model_LeNet)) * 100:.2f}%')\n",
    "\n",
    "# Plot the distribution of weights in the original and pruned models\n",
    "weights_leorignal = []\n",
    "weights_lepruned = []\n",
    "for param in model_LeNet.parameters():\n",
    "    weights_leorignal += list(param.cpu().detach().numpy().flatten())\n",
    "for param in pruned_model.parameters():\n",
    "    weights_lepruned += list(param.cpu().detach().numpy().flatten())\n",
    "\n",
    "plt.figure(figsize=(12, 6))\n",
    "plt.subplot(1, 2, 1)\n",
    "plt.hist(weights_leorignal, bins=50)\n",
    "plt.xlabel('Weight Values')\n",
    "plt.ylabel('Count')\n",
    "plt.title('Distribution of Weight Values in the Original Model')\n",
    "plt.xlim([-1, 1])\n",
    "\n",
    "plt.subplot(1, 2, 2)  \n",
    "plt.hist(weights_lepruned, bins=50)\n",
    "plt.xlabel('Weight Values')\n",
    "plt.ylabel('Count')\n",
    "plt.title('Distribution of Weight Values in the Pruned Model')\n",
    "plt.xlim([-1, 1])\n",
    "\n",
    "plt.tight_layout()\n",
    "plt.show()\n"
   ]
  },
  {
   "cell_type": "code",
   "execution_count": 24,
   "metadata": {},
   "outputs": [
    {
     "name": "stdout",
     "output_type": "stream",
     "text": [
      "Epoch: 1, Test Loss: 0.6314, Accuracy: 0.8828\n",
      "Epoch: 2, Test Loss: 0.5421, Accuracy: 0.9032\n",
      "Epoch: 3, Test Loss: 0.4599, Accuracy: 0.9196\n",
      "Epoch: 4, Test Loss: 0.3969, Accuracy: 0.9312\n",
      "Epoch: 5, Test Loss: 0.3508, Accuracy: 0.9412\n"
     ]
    }
   ],
   "source": [
    "# Retrain the model of LeNet-5\n",
    "fine_tune_epochs = 5\n",
    "optimizer = optim.Adam(pruned_model.parameters(), lr=1e-3)\n",
    "for epoch in range(fine_tune_epochs):\n",
    "    train(pruned_model, train_loader, device, optimizer=optimizer, criterion = nn.CrossEntropyLoss(), mask = mask)\n",
    "    test_loss, accuracy = evaluate(pruned_model, test_loader, device, criterion = nn.CrossEntropyLoss())\n",
    "    print(f'Epoch: {epoch + 1}, Test Loss: {test_loss:.4f}, Accuracy: {accuracy:.4f}')\n"
   ]
  },
  {
   "cell_type": "code",
   "execution_count": 25,
   "metadata": {},
   "outputs": [
    {
     "name": "stdout",
     "output_type": "stream",
     "text": [
      "Percentage of weights pruned: 98.46%\n"
     ]
    },
    {
     "data": {
      "image/png": "[encoded data removed]",
      "text/plain": [
       "<Figure size 864x432 with 2 Axes>"
      ]
     },
     "metadata": {
      "needs_background": "light"
     },
     "output_type": "display_data"
    }
   ],
   "source": [
    "# Display the pruned results after fine-tuning\n",
    "weights_leorignal = []\n",
    "weights_lepruned = []\n",
    "for param in model_LeNet.parameters():\n",
    "    weights_leorignal += list(param.cpu().detach().numpy().flatten())\n",
    "for param in pruned_model.parameters():\n",
    "    weights_lepruned += list(param.cpu().detach().numpy().flatten())\n",
    "\n",
    "# Show the percentage of weights that are pruned\n",
    "print(f'Percentage of weights pruned: {(1 - count_nonzero_params(pruned_model) / count_nonzero_params(model_LeNet)) * 100:.2f}%')\n",
    "\n",
    "plt.figure(figsize=(12, 6))\n",
    "plt.subplot(1, 2, 1)\n",
    "plt.hist(weights_leorignal, bins=50)\n",
    "plt.xlabel('Weight Values')\n",
    "plt.ylabel('Count')\n",
    "plt.title('Distribution of Weight Values in the Original Model')\n",
    "plt.xlim([-1, 1])\n",
    "\n",
    "plt.subplot(1, 2, 2)\n",
    "plt.hist(weights_lepruned, bins=50)\n",
    "plt.xlabel('Weight Values')\n",
    "plt.ylabel('Count')\n",
    "plt.title('Distribution of Weight Values in the Pruned Model')\n",
    "plt.xlim([-1, 1])\n",
    "\n",
    "plt.tight_layout()\n",
    "plt.show()\n"
   ]
  },
  {
   "cell_type": "markdown",
   "metadata": {},
   "source": [
    "Comparison of origianl and pruned LeNet-5\n",
    "|  | Pretrained Model | Pruned Model | Retrained Model | Pruning Ratio |\n",
    "|---------|---------|---------|---------|---------|\n",
    "| Size |61706  | 3310 | 3310 | 94.64% |\n",
    "| Accuracy | 0.9914 | 0.8403 | 0.9093 | - |\n",
    "\n"
   ]
  },
  {
   "cell_type": "markdown",
   "metadata": {},
   "source": [
    "# 4. VGG-8"
   ]
  },
  {
   "cell_type": "markdown",
   "metadata": {},
   "source": [
    "## 4.1 Define the Network\n",
    "\n",
    "![VGG-8](images/VGG_architecture.png)"
   ]
  },
  {
   "cell_type": "code",
   "execution_count": 27,
   "metadata": {},
   "outputs": [
    {
     "name": "stdout",
     "output_type": "stream",
     "text": [
      "==========================================================================================\n",
      "Layer (type:depth-idx)                   Output Shape              Param #\n",
      "==========================================================================================\n",
      "├─Sequential: 1-1                        [-1, 256, 4, 4]           --\n",
      "|    └─Conv2d: 2-1                       [-1, 64, 32, 32]          1,792\n",
      "|    └─ReLU: 2-2                         [-1, 64, 32, 32]          --\n",
      "|    └─Conv2d: 2-3                       [-1, 64, 32, 32]          36,928\n",
      "|    └─ReLU: 2-4                         [-1, 64, 32, 32]          --\n",
      "|    └─MaxPool2d: 2-5                    [-1, 64, 16, 16]          --\n",
      "|    └─Conv2d: 2-6                       [-1, 128, 16, 16]         73,856\n",
      "|    └─ReLU: 2-7                         [-1, 128, 16, 16]         --\n",
      "|    └─Conv2d: 2-8                       [-1, 128, 16, 16]         147,584\n",
      "|    └─ReLU: 2-9                         [-1, 128, 16, 16]         --\n",
      "|    └─MaxPool2d: 2-10                   [-1, 128, 8, 8]           --\n",
      "|    └─Conv2d: 2-11                      [-1, 256, 8, 8]           295,168\n",
      "|    └─ReLU: 2-12                        [-1, 256, 8, 8]           --\n",
      "|    └─Conv2d: 2-13                      [-1, 256, 8, 8]           590,080\n",
      "|    └─ReLU: 2-14                        [-1, 256, 8, 8]           --\n",
      "|    └─MaxPool2d: 2-15                   [-1, 256, 4, 4]           --\n",
      "├─AdaptiveAvgPool2d: 1-2                 [-1, 256, 4, 4]           --\n",
      "├─Sequential: 1-3                        [-1, 10]                  --\n",
      "|    └─Linear: 2-16                      [-1, 1024]                4,195,328\n",
      "|    └─ReLU: 2-17                        [-1, 1024]                --\n",
      "|    └─Dropout: 2-18                     [-1, 1024]                --\n",
      "|    └─Linear: 2-19                      [-1, 1024]                1,049,600\n",
      "|    └─ReLU: 2-20                        [-1, 1024]                --\n",
      "|    └─Dropout: 2-21                     [-1, 1024]                --\n",
      "|    └─Linear: 2-22                      [-1, 10]                  10,250\n",
      "==========================================================================================\n",
      "Total params: 6,400,586\n",
      "Trainable params: 6,400,586\n",
      "Non-trainable params: 0\n",
      "Total mult-adds (M): 164.42\n",
      "==========================================================================================\n",
      "Input size (MB): 0.01\n",
      "Forward/backward pass size (MB): 1.77\n",
      "Params size (MB): 24.42\n",
      "Estimated Total Size (MB): 26.19\n",
      "==========================================================================================\n"
     ]
    },
    {
     "data": {
      "text/plain": [
       "<All keys matched successfully>"
      ]
     },
     "execution_count": 27,
     "metadata": {},
     "output_type": "execute_result"
    }
   ],
   "source": [
    "# Define and load VGG-8 Network\n",
    "model_VGG = VGG_8()\n",
    "# Summary of VGG-8\n",
    "summary(model_VGG, (3, 32, 32))\n",
    "model_VGG.load_state_dict(torch.load('src/VGG_8/VGG_best_model.pth'))"
   ]
  },
  {
   "cell_type": "code",
   "execution_count": 28,
   "metadata": {},
   "outputs": [
    {
     "name": "stdout",
     "output_type": "stream",
     "text": [
      "Files already downloaded and verified\n",
      "Files already downloaded and verified\n"
     ]
    }
   ],
   "source": [
    "batch_size = 512\n",
    "\n",
    "#Load data for training\n",
    "train_loader = torch.utils.data.DataLoader(\n",
    "            datasets.CIFAR10('data', train=True, download=True,\n",
    "                             transform=transforms.Compose([\n",
    "                                 transforms.ToTensor(),\n",
    "                                 transforms.Normalize((0.49139968, 0.48215827, 0.44653124),\n",
    "                                                      (0.24703233, 0.24348505, 0.26158768))\n",
    "                             ])), shuffle=True, batch_size=batch_size)\n",
    "\n",
    "#Load data for testing\n",
    "test_loader = torch.utils.data.DataLoader(\n",
    "            datasets.CIFAR10('data', train=False, download=True,\n",
    "                             transform=transforms.Compose([\n",
    "                                 transforms.ToTensor(),\n",
    "                                 transforms.Normalize((0.49139968, 0.48215827, 0.44653124),\n",
    "                                                      (0.24703233, 0.24348505, 0.26158768))\n",
    "                             ])), shuffle=True, batch_size=batch_size)"
   ]
  },
  {
   "cell_type": "markdown",
   "metadata": {},
   "source": [
    "## 4.2 pruning"
   ]
  },
  {
   "cell_type": "code",
   "execution_count": 30,
   "metadata": {},
   "outputs": [
    {
     "name": "stdout",
     "output_type": "stream",
     "text": [
      "Original model, Test Loss: 1.0424, Accuracy: 0.8020\n",
      "Epoch 1/10\n",
      "normalized norm of (weight - projection)\n",
      "(features.0.weight): 0.7567\n",
      "(features.2.weight): 0.5802\n",
      "(features.5.weight): 0.5881\n",
      "(features.7.weight): 0.6085\n",
      "(features.10.weight): 0.5964\n",
      "(features.12.weight): 0.5293\n",
      "(classifier.0.weight): 0.3715\n",
      "(classifier.3.weight): 0.5203\n",
      "(classifier.6.weight): 0.5261\n",
      "Test Loss: 6.9457, Accuracy: 0.1001\n",
      "Epoch 2/10\n",
      "normalized norm of (weight - projection)\n",
      "(features.0.weight): 0.3368\n",
      "(features.2.weight): 0.3023\n",
      "(features.5.weight): 0.2994\n",
      "(features.7.weight): 0.2768\n",
      "(features.10.weight): 0.2795\n",
      "(features.12.weight): 0.3143\n",
      "(classifier.0.weight): 0.3240\n",
      "(classifier.3.weight): 0.3714\n",
      "(classifier.6.weight): 0.2410\n",
      "Test Loss: 2.8838, Accuracy: 0.1262\n",
      "Epoch 3/10\n",
      "normalized norm of (weight - projection)\n",
      "(features.0.weight): 0.4717\n",
      "(features.2.weight): 0.2877\n",
      "(features.5.weight): 0.2654\n",
      "(features.7.weight): 0.2929\n",
      "(features.10.weight): 0.2788\n",
      "(features.12.weight): 0.2534\n",
      "(classifier.0.weight): 0.2161\n",
      "(classifier.3.weight): 0.2529\n",
      "(classifier.6.weight): 0.2605\n",
      "Test Loss: 2.7411, Accuracy: 0.2080\n",
      "Epoch 4/10\n",
      "normalized norm of (weight - projection)\n",
      "(features.0.weight): 0.5277\n",
      "(features.2.weight): 0.3139\n",
      "(features.5.weight): 0.3142\n",
      "(features.7.weight): 0.3243\n",
      "(features.10.weight): 0.3190\n",
      "(features.12.weight): 0.2731\n",
      "(classifier.0.weight): 0.2100\n",
      "(classifier.3.weight): 0.2223\n",
      "(classifier.6.weight): 0.2884\n",
      "Test Loss: 2.4609, Accuracy: 0.3578\n",
      "Epoch 5/10\n",
      "normalized norm of (weight - projection)\n",
      "(features.0.weight): 0.5655\n",
      "(features.2.weight): 0.3222\n",
      "(features.5.weight): 0.3184\n",
      "(features.7.weight): 0.3375\n",
      "(features.10.weight): 0.3282\n",
      "(features.12.weight): 0.2713\n",
      "(classifier.0.weight): 0.1943\n",
      "(classifier.3.weight): 0.2037\n",
      "(classifier.6.weight): 0.2909\n",
      "Test Loss: 2.0776, Accuracy: 0.5051\n",
      "Epoch 6/10\n",
      "normalized norm of (weight - projection)\n",
      "(features.0.weight): 0.5638\n",
      "(features.2.weight): 0.3229\n",
      "(features.5.weight): 0.3270\n",
      "(features.7.weight): 0.3394\n",
      "(features.10.weight): 0.3272\n",
      "(features.12.weight): 0.2654\n",
      "(classifier.0.weight): 0.1818\n",
      "(classifier.3.weight): 0.1872\n",
      "(classifier.6.weight): 0.2969\n",
      "Test Loss: 1.7202, Accuracy: 0.6198\n",
      "Epoch 7/10\n",
      "normalized norm of (weight - projection)\n",
      "(features.0.weight): 0.5742\n",
      "(features.2.weight): 0.3088\n",
      "(features.5.weight): 0.3157\n",
      "(features.7.weight): 0.3299\n",
      "(features.10.weight): 0.3209\n",
      "(features.12.weight): 0.2589\n",
      "(classifier.0.weight): 0.1723\n",
      "(classifier.3.weight): 0.1739\n",
      "(classifier.6.weight): 0.2891\n",
      "Test Loss: 1.3831, Accuracy: 0.7268\n",
      "Epoch 8/10\n",
      "normalized norm of (weight - projection)\n",
      "(features.0.weight): 0.5177\n",
      "(features.2.weight): 0.3026\n",
      "(features.5.weight): 0.3129\n",
      "(features.7.weight): 0.3215\n",
      "(features.10.weight): 0.3089\n",
      "(features.12.weight): 0.2492\n",
      "(classifier.0.weight): 0.1615\n",
      "(classifier.3.weight): 0.1620\n",
      "(classifier.6.weight): 0.2885\n",
      "Test Loss: 1.1291, Accuracy: 0.8039\n",
      "Epoch 9/10\n",
      "normalized norm of (weight - projection)\n",
      "(features.0.weight): 0.5251\n",
      "(features.2.weight): 0.2837\n",
      "(features.5.weight): 0.2949\n",
      "(features.7.weight): 0.3122\n",
      "(features.10.weight): 0.3017\n",
      "(features.12.weight): 0.2380\n",
      "(classifier.0.weight): 0.1542\n",
      "(classifier.3.weight): 0.1489\n",
      "(classifier.6.weight): 0.2790\n",
      "Test Loss: 0.9351, Accuracy: 0.8659\n",
      "Epoch 10/10\n",
      "normalized norm of (weight - projection)\n",
      "(features.0.weight): 0.4628\n",
      "(features.2.weight): 0.2717\n",
      "(features.5.weight): 0.2905\n",
      "(features.7.weight): 0.2991\n",
      "(features.10.weight): 0.2869\n",
      "(features.12.weight): 0.2321\n",
      "(classifier.0.weight): 0.1462\n",
      "(classifier.3.weight): 0.1363\n",
      "(classifier.6.weight): 0.2789\n",
      "Test Loss: 0.8083, Accuracy: 0.9011\n",
      "Pruned model, Test Loss: 0.7290, Accuracy: 0.7634\n"
     ]
    }
   ],
   "source": [
    "# Apply ADMM pruning method to AlexNet\n",
    "model_VGG_2 = VGG_8()\n",
    "percent = [0.85] * 9\n",
    "model_VGG_2.load_state_dict(torch.load('src/VGG_8/VGG_best_model.pth'))\n",
    "test_loss, accuracy = evaluate(model_VGG_2, test_loader, device, criterion = nn.CrossEntropyLoss())\n",
    "print(f'Original model, Test Loss: {test_loss:.4f}, Accuracy: {accuracy:.4f}')\n",
    "pruned_model, mask = admm_pruning(model_VGG_2, train_loader, percent)\n",
    "test_loss, accuracy = evaluate(pruned_model, test_loader, device, criterion = nn.CrossEntropyLoss())\n",
    "print(f'Pruned model, Test Loss: {test_loss:.4f}, Accuracy: {accuracy:.4f}')"
   ]
  },
  {
   "cell_type": "code",
   "execution_count": 31,
   "metadata": {},
   "outputs": [
    {
     "name": "stdout",
     "output_type": "stream",
     "text": [
      "Epoch: 1, Test Loss: 0.7260, Accuracy: 0.7727\n",
      "Epoch: 2, Test Loss: 0.7262, Accuracy: 0.7807\n",
      "Epoch: 3, Test Loss: 0.7203, Accuracy: 0.7913\n",
      "Epoch: 4, Test Loss: 0.7343, Accuracy: 0.7935\n",
      "Epoch: 5, Test Loss: 0.7288, Accuracy: 0.7983\n"
     ]
    }
   ],
   "source": [
    "# Retrain the model of VGG-8\n",
    "fine_tune_epochs = 5\n",
    "optimizer = optim.Adam(pruned_model.parameters(), lr=1e-3)\n",
    "for epoch in range(fine_tune_epochs):\n",
    "    train(pruned_model, train_loader, device, optimizer=optimizer, criterion = nn.CrossEntropyLoss(), mask=mask)\n",
    "    test_loss, accuracy = evaluate(pruned_model, test_loader, device, criterion = nn.CrossEntropyLoss())\n",
    "    print(f'Epoch: {epoch + 1}, Test Loss: {test_loss:.4f}, Accuracy: {accuracy:.4f}')\n"
   ]
  },
  {
   "cell_type": "code",
   "execution_count": 32,
   "metadata": {},
   "outputs": [
    {
     "name": "stdout",
     "output_type": "stream",
     "text": [
      "Number of nonzero parameters in original model: 6400586\n",
      "Number of nonzero parameters in pruned model: 962603\n",
      "Percentage of weights pruned: 84.96%\n"
     ]
    },
    {
     "data": {
      "image/png": "[encoded data removed]",
      "text/plain": [
       "<Figure size 864x432 with 2 Axes>"
      ]
     },
     "metadata": {
      "needs_background": "light"
     },
     "output_type": "display_data"
    }
   ],
   "source": [
    "# Visualize model parameter changes and model size changes of VGG-8\n",
    "print(f'Number of nonzero parameters in original model: {count_nonzero_params(model_VGG)}')\n",
    "print(f'Number of nonzero parameters in pruned model: {count_nonzero_params(pruned_model)}')\n",
    "\n",
    "# Show the percentage of weights that are pruned\n",
    "print(f'Percentage of weights pruned: {(1 - count_nonzero_params(pruned_model) / count_nonzero_params(model_VGG)) * 100:.2f}%')\n",
    "\n",
    "# Plot the distribution of weights in the original and pruned models\n",
    "weights_leorignal = []\n",
    "weights_lepruned = []\n",
    "for param in model_VGG.parameters():\n",
    "    weights_leorignal += list(param.cpu().detach().numpy().flatten())\n",
    "for param in pruned_model.parameters():\n",
    "    weights_lepruned += list(param.cpu().detach().numpy().flatten())\n",
    "\n",
    "plt.figure(figsize=(12, 6))\n",
    "plt.subplot(1, 2, 1)\n",
    "plt.hist(weights_leorignal, bins=50)\n",
    "plt.xlabel('Weight Values')\n",
    "plt.ylabel('Count')\n",
    "plt.title('Distribution of Weight Values in the Original Model')\n",
    "plt.xlim([-1, 1])\n",
    "\n",
    "plt.subplot(1, 2, 2)  \n",
    "plt.hist(weights_lepruned, bins=50)\n",
    "plt.xlabel('Weight Values')\n",
    "plt.ylabel('Count')\n",
    "plt.title('Distribution of Weight Values in the Pruned Model')\n",
    "plt.xlim([-1, 1])\n",
    "\n",
    "plt.tight_layout()\n",
    "plt.show()\n"
   ]
  },
  {
   "cell_type": "markdown",
   "metadata": {},
   "source": [
    "|  | Pretrained Model | Pruned Model | Retrained Model | Pruning Ratio |\n",
    "|---------|---------|---------|---------|---------|\n",
    "| Size |6400586  | 962603 | 962603 | 84.96% |\n",
    "| Accuracy | 0.8021 | 0.7728 | 0.8018 | - |\n"
   ]
  }
 ],
 "metadata": {
  "kernelspec": {
   "display_name": "Python 3 (ipykernel)",
   "language": "python",
   "name": "python3"
  },
  "language_info": {
   "codemirror_mode": {
    "name": "ipython",
    "version": 3
   },
   "file_extension": ".py",
   "mimetype": "text/x-python",
   "name": "python",
   "nbconvert_exporter": "python",
   "pygments_lexer": "ipython3",
   "version": "3.8.10"
  }
 },
 "nbformat": 4,
 "nbformat_minor": 2
}
