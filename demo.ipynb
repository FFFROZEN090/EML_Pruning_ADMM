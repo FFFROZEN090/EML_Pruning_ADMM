{
 "cells": [
  {
   "cell_type": "markdown",
   "metadata": {},
   "source": [
    "# 1. Introduction of ADMM pruning"
   ]
  },
  {
   "cell_type": "markdown",
   "metadata": {},
   "source": [
    "## 1.1 Introduction to ADMM\n",
    "The Alternating Direction Method of Multipliers (ADMM) is a strong optimization technique. It's especially useful for problems that can be broken down into simpler sub-problems. This method is perfect for dealing with nonconvex optimization problems with combinatorial constraints, like weight pruning in Deep Neural Networks (DNNs).\n",
    "\n",
    "ADMM is based on the method of multipliers, a way to solve constrained optimization problems. It uses the concept of the Lagrange multiplier, a strategy to find the highest and lowest points of a function under equality constraints. The Lagrange multiplier method introduces a new variable (the multiplier) for each constraint. It forms a Lagrangian function by adding the product of the multipliers and the constraints to the objective function. By finding the stable points of this Lagrangian function, we can find solutions to the constrained optimization problem.\n",
    "\n",
    "In the context of ADMM, the Lagrange multiplier adjusts the penalty for violating constraints. This helps balance the trade-off between meeting constraints and optimizing the original objective.\n",
    "\n",
    "## 1.2 Problem Formulation\n",
    "The weight pruning problem can be formulated as a nonconvex optimization problem with sparsity constraints:\n",
    "\n",
    "$$\n",
    "\\begin{aligned}\n",
    "& \\text{minimize}_{\\{W_i\\}, \\{b_i\\}} \\quad f(\\{W_i\\}, \\{b_i\\}) \\\\\n",
    "& \\text{subject to} \\quad \\text{card}(W_i) \\le l_i, \\quad i = 1, \\ldots, N \n",
    "\\end{aligned} \n",
    "$$\n",
    "\n",
    "Here, $ f(\\{W_i\\}, \\{b_i\\}) $ is the loss function of the DNN, and $\\text{card}(W_i) \\le l_i$ represents the sparsity constraint on the weights.\n",
    "\n",
    "## 2.3 Reformulation Using ADMM\n",
    "Reformulate this problem to fit the ADMM framework:\n",
    "\n",
    "$$\n",
    "\\begin{aligned}\n",
    "& \\text{minimize}_{\\{W_i\\}, \\{b_i\\}} \\quad f(\\{W_i\\}, \\{b_i\\}) + \\sum_{i=1}^N g_i(Z_i) \\\\\n",
    "& \\text{subject to} \\quad W_i = Z_i, \\quad i = 1, \\ldots, N \n",
    "\\end{aligned} \n",
    "$$\n",
    "\n",
    "where $ g_i(Z_i) $ is the indicator function for the set $ S_i = \\{W \\mid \\text{card}(W) \\le l_i\\} $:\n",
    "\n",
    "$$\n",
    "g_i(Z_i) = \n",
    "\\begin{cases} \n",
    "0 & \\text{if} \\quad \\text{card}(Z_i) \\le l_i \\\\\n",
    "+\\infty & \\text{otherwise} \n",
    "\\end{cases} \n",
    "$$\n",
    "\n",
    "## 2.4 Augmented Lagrangian\n",
    "The augmented Lagrangian for this problem is:\n",
    "\n",
    "$$\n",
    "\\begin{aligned}\n",
    "L_{\\rho}(\\{W_i\\}, \\{b_i\\}, \\{Z_i\\}, \\{\\Lambda_i\\}) &= f(\\{W_i\\}, \\{b_i\\}) + \\sum_{i=1}^N \\left( g_i(Z_i) + \\text{tr}(\\Lambda_i^T (W_i - Z_i)) + \\frac{\\rho}{2} \\|W_i - Z_i\\|_F^2 \\right) \n",
    "\\end{aligned} \n",
    "$$\n",
    "\n",
    "where $ \\{\\Lambda_i\\} $ are the Lagrange multipliers, and $\\rho$ is a penalty parameter.\n",
    "\n",
    "## 2.5 Explanation of the Augmented Lagrangian\n",
    "In this formulation, the augmented Lagrangian combines the original objective function with additional terms that enforce the equality constraints $W_i = Z_i$. The term $\\text{tr}(\\Lambda_i^T (W_i - Z_i))$ introduces the Lagrange multipliers to enforce these constraints, while the quadratic penalty term $\\frac{\\rho}{2} \\|W_i - Z_i\\|_F^2$ ensures that any violation of the constraints is penalized. This augmented Lagrangian facilitates the decomposition of the original problem into smaller subproblems that can be solved more efficiently.\n",
    "\n",
    "The ADMM algorithm iteratively updates the variables by solving these subproblems, alternating between updating the primal variables (weights $W_i$ and $Z_i$) and the dual variables (Lagrange multipliers $\\Lambda_i$). This approach leverages the structure of the problem, allowing for more efficient optimization compared to solving the original problem directly.\n",
    "\n",
    "## 2.6 ADMM Iterations\n",
    "The ADMM algorithm proceeds iteratively with the following steps:\n",
    "\n",
    "1. **Update $ W_i $ and $ b_i $**:\n",
    "\n",
    "$$\n",
    "\\{W_i^{k+1}, b_i^{k+1}\\} = \\arg \\min_{\\{W_i\\}, \\{b_i\\}} \\left( f(\\{W_i\\}, \\{b_i\\}) + \\frac{\\rho}{2} \\|W_i - Z_i^k + U_i^k\\|_F^2 \\right) \n",
    "$$\n",
    "\n",
    "2. **Update $ Z_i $**:\n",
    "\n",
    "$$\n",
    "Z_i^{k+1} = \\arg \\min_{Z_i} \\left( g_i(Z_i) + \\frac{\\rho}{2} \\|W_i^{k+1} - Z_i + U_i^k\\|_F^2 \\right) \n",
    "$$\n",
    "\n",
    "Since $g_i(Z_i)$ is the indicator function, this update is equivalent to:\n",
    "\n",
    "$$\n",
    "Z_i^{k+1} = \\Pi_{S_i}(W_i^{k+1} + U_i^k) \n",
    "$$\n",
    "\n",
    "where $ \\Pi_{S_i} $ denotes the projection onto the set $ S_i $.\n",
    "\n",
    "3. **Update Dual Variables $ U_i $**:\n",
    "\n",
    "$$\n",
    "U_i^{k+1} = U_i^k + W_i^{k+1} - Z_i^{k+1} \n",
    "$$\n",
    "\n",
    "## 2.7 Convergence Criteria\n",
    "The iterations continue until the following conditions are satisfied:\n",
    "\n",
    "$$\n",
    "\\|W_i^{k+1} - Z_i^{k+1}\\|_F \\le \\epsilon_i, \\quad \\|Z_i^{k+1} - Z_i^k\\|_F \\le \\epsilon_i \n",
    "$$\n",
    "\n",
    "## 2.8 Conclusion\n",
    "ADMM provides a systematic framework for weight pruning in DNNs. It achieves higher compression ratios and faster convergence compared to heuristic methods. The experiments on models like LeNet-5 and AlexNet demonstrate significant weight reductions without accuracy loss.\n"
   ]
  },
  {
   "cell_type": "markdown",
   "metadata": {},
   "source": [
    "# 2. AlexNet"
   ]
  },
  {
   "cell_type": "markdown",
   "metadata": {},
   "source": [
    "## 2.1 Define the Network"
   ]
  },
  {
   "cell_type": "code",
   "execution_count": 1,
   "metadata": {},
   "outputs": [
    {
     "name": "stderr",
     "output_type": "stream",
     "text": [
      "/Users/maggie/anaconda3/envs/EML/lib/python3.10/site-packages/tqdm/auto.py:21: TqdmWarning: IProgress not found. Please update jupyter and ipywidgets. See https://ipywidgets.readthedocs.io/en/stable/user_install.html\n",
      "  from .autonotebook import tqdm as notebook_tqdm\n"
     ]
    }
   ],
   "source": [
    "# Import essential modules\n",
    "import sys\n",
    "sys.path.append('src')\n",
    "import numpy as np\n",
    "import torch\n",
    "import torch.nn as nn\n",
    "import torch.optim as optim\n",
    "from torch.utils.data import DataLoader, TensorDataset\n",
    "from torchvision import datasets, transforms\n",
    "from torchvision.datasets import MNIST\n",
    "import matplotlib.pyplot as plt\n",
    "\n",
    "from dataloader.ImageNet_dataloader import ImageNetDataLoader\n",
    "from dataloader.CIFAR_dataloader import CIFARDataLoader\n",
    "\n",
    "from SimplePruning_Toolbox import admm_pruning\n",
    "from SimplePruning_Toolbox.utils import train, evaluate, count_nonzero_params\n",
    "\n",
    "from AlexNet import AlexNet\n",
    "from LeNet_5 import LeNet5\n",
    "from VGG_8 import VGG_8"
   ]
  },
  {
   "cell_type": "code",
   "execution_count": 7,
   "metadata": {},
   "outputs": [],
   "source": [
    "# Set the device\n",
    "if torch.backends.mps.is_available():\n",
    "    device = torch.device('mps')\n",
    "else:\n",
    "    device = torch.device('cuda' if torch.cuda.is_available() else 'cpu')"
   ]
  },
  {
   "cell_type": "code",
   "execution_count": 15,
   "metadata": {},
   "outputs": [],
   "source": [
    "# Define AlexNet Network\n",
    "model_AlexNet = AlexNet()"
   ]
  },
  {
   "cell_type": "code",
   "execution_count": 23,
   "metadata": {},
   "outputs": [
    {
     "name": "stdout",
     "output_type": "stream",
     "text": [
      "Files already downloaded and verified\n",
      "Files already downloaded and verified\n"
     ]
    },
    {
     "data": {
      "image/png": "[encoded data removed]",
      "text/plain": [
       "<Figure size 1080x432 with 10 Axes>"
      ]
     },
     "metadata": {
      "needs_background": "light"
     },
     "output_type": "display_data"
    }
   ],
   "source": [
    "#Load and Visialize ImageNet dataloader\n",
    "batch_size = 800\n",
    "img_size = 224\n",
    "\n",
    "# Load data for training\n",
    "train_loader = torch.utils.data.DataLoader(\n",
    "            datasets.CIFAR10('data', train=True, download=True,\n",
    "                             transform=transforms.Compose([\n",
    "                                 transforms.ToTensor(),\n",
    "                                 transforms.Normalize((0.49139968, 0.48215827, 0.44653124),\n",
    "                                                      (0.24703233, 0.24348505, 0.26158768))\n",
    "                             ])), shuffle=True, batch_size=batch_size)\n",
    "\n",
    "# Load data for testing\n",
    "test_loader = torch.utils.data.DataLoader(\n",
    "            datasets.CIFAR10('data', train=False, download=True,\n",
    "                             transform=transforms.Compose([\n",
    "                                 transforms.ToTensor(),\n",
    "                                 transforms.Normalize((0.49139968, 0.48215827, 0.44653124),\n",
    "                                                      (0.24703233, 0.24348505, 0.26158768))\n",
    "                             ])), shuffle=True, batch_size=batch_size)\n",
    "\n",
    "dataiter = iter(test_loader)\n",
    "images, labels = next(dataiter)\n",
    "\n",
    "# Get the first 10 images and labels from the batch\n",
    "images = images[:10]\n",
    "labels = labels[:10]\n",
    "\n",
    "# Conver to cpu and numpy\n",
    "images = images.cpu().numpy()\n",
    "images = images.transpose(0, 2, 3, 1)\n",
    "\n",
    "images = (images - images.min()) / (images.max() - images.min())\n",
    "\n",
    "# images = (images * 0.5) + 0.5\n",
    "\n",
    "# Compose the 10 images into a single plot\n",
    "fig, axes = plt.subplots(2, 5, figsize=(15, 6))\n",
    "for i, ax in enumerate(axes.flat):\n",
    "    ax.imshow(images[i])\n",
    "    ax.set_title(f'Label: {labels[i].item()}')\n",
    "    ax.axis('off')\n",
    "plt.tight_layout()\n",
    "plt.show()"
   ]
  },
  {
   "cell_type": "code",
   "execution_count": 24,
   "metadata": {},
   "outputs": [
    {
     "name": "stdout",
     "output_type": "stream",
     "text": [
      "Original model, Test Loss: 2.3247, Accuracy: 0.7078\n"
     ]
    }
   ],
   "source": [
    "# Display Un-pruned evaluation results\n",
    "model_AlexNet.load_state_dict(torch.load('src/AlexNet/best_model.pth'))\n",
    "test_loss, accuracy = evaluate(model_AlexNet, test_loader, device, nn.CrossEntropyLoss())\n",
    "print(f'Original model, Test Loss: {test_loss:.4f}, Accuracy: {accuracy:.4f}')"
   ]
  },
  {
   "cell_type": "markdown",
   "metadata": {},
   "source": [
    "## 2.2 Pruning"
   ]
  },
  {
   "cell_type": "code",
   "execution_count": null,
   "metadata": {},
   "outputs": [
    {
     "name": "stdout",
     "output_type": "stream",
     "text": [
      "Epoch 1/10\n",
      "normalized norm of (weight - projection)\n",
      "(features.0.weight): 0.6787\n",
      "(features.3.weight): 0.7021\n",
      "(features.6.weight): 0.6616\n",
      "(features.8.weight): 0.7247\n",
      "(features.10.weight): 0.7843\n",
      "(classifier.1.weight): 0.9214\n",
      "(classifier.4.weight): 0.8833\n",
      "(classifier.6.weight): 0.4307\n",
      "Test Loss: 4.1627, Accuracy: 0.1000\n",
      "Epoch 2/10\n",
      "normalized norm of (weight - projection)\n",
      "(features.0.weight): 0.3932\n",
      "(features.3.weight): 0.3329\n",
      "(features.6.weight): 0.3866\n",
      "(features.8.weight): 0.3691\n",
      "(features.10.weight): 0.4573\n",
      "(classifier.1.weight): 0.7903\n",
      "(classifier.4.weight): 0.8296\n",
      "(classifier.6.weight): 0.2447\n",
      "Test Loss: 3.5326, Accuracy: 0.1000\n",
      "Epoch 3/10\n",
      "normalized norm of (weight - projection)\n",
      "(features.0.weight): 0.4818\n",
      "(features.3.weight): 0.3429\n",
      "(features.6.weight): 0.3239\n",
      "(features.8.weight): 0.3262\n",
      "(features.10.weight): 0.3761\n",
      "(classifier.1.weight): 0.5710\n",
      "(classifier.4.weight): 0.5163\n",
      "(classifier.6.weight): 0.1078\n",
      "Test Loss: 3.4130, Accuracy: 0.1273\n",
      "Epoch 4/10\n",
      "normalized norm of (weight - projection)\n",
      "(features.0.weight): 0.5508\n",
      "(features.3.weight): 0.3935\n",
      "(features.6.weight): 0.3627\n",
      "(features.8.weight): 0.3638\n",
      "(features.10.weight): 0.3913\n",
      "(classifier.1.weight): 0.5075\n",
      "(classifier.4.weight): 0.3906\n",
      "(classifier.6.weight): 0.0900\n",
      "Test Loss: 3.2730, Accuracy: 0.1604\n",
      "Epoch 5/10\n",
      "normalized norm of (weight - projection)\n",
      "(features.0.weight): 0.5650\n",
      "(features.3.weight): 0.4136\n",
      "(features.6.weight): 0.3959\n",
      "(features.8.weight): 0.4052\n",
      "(features.10.weight): 0.4124\n",
      "(classifier.1.weight): 0.4629\n",
      "(classifier.4.weight): 0.3349\n",
      "(classifier.6.weight): 0.0797\n",
      "Test Loss: 3.1505, Accuracy: 0.1946\n",
      "Epoch 6/10\n",
      "normalized norm of (weight - projection)\n",
      "(features.0.weight): 0.5673\n",
      "(features.3.weight): 0.4272\n",
      "(features.6.weight): 0.4126\n",
      "(features.8.weight): 0.4292\n",
      "(features.10.weight): 0.4238\n",
      "(classifier.1.weight): 0.4469\n",
      "(classifier.4.weight): 0.2964\n",
      "(classifier.6.weight): 0.0712\n",
      "Test Loss: 3.0283, Accuracy: 0.2450\n",
      "Epoch 7/10\n",
      "normalized norm of (weight - projection)\n",
      "(features.0.weight): 0.5354\n",
      "(features.3.weight): 0.4291\n",
      "(features.6.weight): 0.4126\n",
      "(features.8.weight): 0.4324\n",
      "(features.10.weight): 0.4225\n",
      "(classifier.1.weight): 0.4216\n",
      "(classifier.4.weight): 0.2727\n",
      "(classifier.6.weight): 0.0658\n",
      "Test Loss: 2.8704, Accuracy: 0.3021\n",
      "Epoch 8/10\n",
      "normalized norm of (weight - projection)\n",
      "(features.0.weight): 0.5096\n",
      "(features.3.weight): 0.4283\n",
      "(features.6.weight): 0.4134\n",
      "(features.8.weight): 0.4297\n",
      "(features.10.weight): 0.4182\n",
      "(classifier.1.weight): 0.4181\n",
      "(classifier.4.weight): 0.2529\n",
      "(classifier.6.weight): 0.0595\n",
      "Test Loss: 2.6638, Accuracy: 0.3773\n",
      "Epoch 9/10\n",
      "normalized norm of (weight - projection)\n",
      "(features.0.weight): 0.4962\n",
      "(features.3.weight): 0.4196\n",
      "(features.6.weight): 0.4093\n",
      "(features.8.weight): 0.4232\n",
      "(features.10.weight): 0.4103\n",
      "(classifier.1.weight): 0.4055\n",
      "(classifier.4.weight): 0.2377\n",
      "(classifier.6.weight): 0.0539\n",
      "Test Loss: 2.5481, Accuracy: 0.4198\n",
      "Epoch 10/10\n",
      "normalized norm of (weight - projection)\n",
      "(features.0.weight): 0.4704\n",
      "(features.3.weight): 0.4210\n",
      "(features.6.weight): 0.4087\n",
      "(features.8.weight): 0.4258\n",
      "(features.10.weight): 0.4137\n",
      "(classifier.1.weight): 0.4015\n",
      "(classifier.4.weight): 0.2209\n",
      "(classifier.6.weight): 0.0489\n",
      "Test Loss: 2.3992, Accuracy: 0.4693\n",
      "Pruned model, Test Loss: 1.6273, Accuracy: 0.4389\n"
     ]
    }
   ],
   "source": [
    "# Apply ADMM pruning method to AlexNet\n",
    "model2 = AlexNet()\n",
    "percent = [0.8, 0.92, 0.93, 0.94, 0.95, 0.99, 0.99, 0.93]\n",
    "model2.load_state_dict(torch.load('best_model_AlexNet.pth'))\n",
    "pruned_model, mask = admm_pruning(model2, train_loader, percent)\n",
    "test_loss, accuracy = evaluate(pruned_model, test_loader, device, criterion = nn.CrossEntropyLoss())\n",
    "print(f'Pruned model, Test Loss: {test_loss:.4f}, Accuracy: {accuracy:.4f}')"
   ]
  },
  {
   "cell_type": "code",
   "execution_count": null,
   "metadata": {},
   "outputs": [
    {
     "name": "stdout",
     "output_type": "stream",
     "text": [
      "Number of nonzero parameters in original model: 23272266\n",
      "Number of nonzero parameters in pruned model: 360159\n"
     ]
    },
    {
     "data": {
      "image/png": "[encoded data removed]",
      "text/plain": [
       "<Figure size 864x432 with 2 Axes>"
      ]
     },
     "metadata": {},
     "output_type": "display_data"
    }
   ],
   "source": [
    "# Visualize model parameter changes and model size changes of AlexNet\n",
    "from SimplePruning_Toolbox.utils import count_nonzero_params\n",
    "print(f'Number of nonzero parameters in original model: {count_nonzero_params(model_AlexNet)}')\n",
    "print(f'Number of nonzero parameters in pruned model: {count_nonzero_params(pruned_model)}')\n",
    "\n",
    "# Plot the distribution of weights in the original and pruned models\n",
    "weights_leorignal = []\n",
    "weights_lepruned = []\n",
    "for param in model_AlexNet.parameters():\n",
    "    weights_leorignal += list(param.cpu().detach().numpy().flatten())\n",
    "for param in pruned_model.parameters():\n",
    "    weights_lepruned += list(param.cpu().detach().numpy().flatten())\n",
    "\n",
    "plt.figure(figsize=(12, 6))\n",
    "plt.subplot(1, 2, 1)\n",
    "plt.hist(weights_leorignal, bins=50)\n",
    "plt.xlabel('Weight Values')\n",
    "plt.ylabel('Count')\n",
    "plt.title('Distribution of Weight Values in the Original Model')\n",
    "plt.xlim([-1, 1])\n",
    "\n",
    "plt.subplot(1, 2, 2)  \n",
    "plt.hist(weights_lepruned, bins=50)\n",
    "plt.xlabel('Weight Values')\n",
    "plt.ylabel('Count')\n",
    "plt.title('Distribution of Weight Values in the Pruned Model')\n",
    "plt.xlim([-1, 1])\n",
    "\n",
    "plt.tight_layout()\n",
    "plt.show()"
   ]
  },
  {
   "cell_type": "code",
   "execution_count": null,
   "metadata": {},
   "outputs": [
    {
     "name": "stdout",
     "output_type": "stream",
     "text": [
      "Epoch: 1, Test Loss: 1.5394, Accuracy: 0.4748\n",
      "Epoch: 2, Test Loss: 1.4657, Accuracy: 0.5040\n",
      "Epoch: 3, Test Loss: 1.3646, Accuracy: 0.5425\n",
      "Epoch: 4, Test Loss: 1.2778, Accuracy: 0.5695\n",
      "Epoch: 5, Test Loss: 1.3285, Accuracy: 0.5552\n",
      "Epoch: 6, Test Loss: 1.2398, Accuracy: 0.5856\n",
      "Epoch: 7, Test Loss: 1.2324, Accuracy: 0.5893\n",
      "Epoch: 8, Test Loss: 1.2251, Accuracy: 0.5907\n",
      "Epoch: 9, Test Loss: 1.1713, Accuracy: 0.6043\n",
      "Epoch: 10, Test Loss: 1.1555, Accuracy: 0.6121\n"
     ]
    }
   ],
   "source": [
    "#Retrain the model of AlexNet\n",
    "fine_tune_epochs = 10\n",
    "optimizer = optim.Adam(pruned_model.parameters(), lr=1e-3)\n",
    "for epoch in range(fine_tune_epochs):\n",
    "    train(pruned_model, train_loader, device, optimizer=optimizer, criterion = nn.CrossEntropyLoss(), mask = mask)\n",
    "    test_loss, accuracy = evaluate(pruned_model, test_loader, device, criterion = nn.CrossEntropyLoss())\n",
    "    print(f'Epoch: {epoch + 1}, Test Loss: {test_loss:.4f}, Accuracy: {accuracy:.4f}')\n",
    "\n",
    "# Save the pruned model\n",
    "torch.save(pruned_model.state_dict(), 'pruned_model_AlexNet.pth')"
   ]
  },
  {
   "cell_type": "markdown",
   "metadata": {},
   "source": [
    "Comparison of origianl and pruned AlexNet\n",
    "|  | Pretrained Model | Pruned Model | Retrained Model | Pruning Ratio |\n",
    "|---------|---------|---------|---------|---------|\n",
    "| Size |23272266  | 360159 | 360159 | 98.45% | \n",
    "| Accuracy | 0.7078 | 0.4389 | 0.6121 | - | \n"
   ]
  },
  {
   "cell_type": "markdown",
   "metadata": {},
   "source": [
    "# Part 3 - LeNet"
   ]
  },
  {
   "cell_type": "markdown",
   "metadata": {},
   "source": [
    "## 3.1 Define the Network"
   ]
  },
  {
   "cell_type": "code",
   "execution_count": 8,
   "metadata": {},
   "outputs": [],
   "source": [
    "# Define LeNet-5 Network\n",
    "model_LeNet = LeNet5()"
   ]
  },
  {
   "cell_type": "code",
   "execution_count": 9,
   "metadata": {},
   "outputs": [
    {
     "data": {
      "image/png": "[encoded data removed]",
      "text/plain": [
       "<Figure size 2500x400 with 8 Axes>"
      ]
     },
     "metadata": {},
     "output_type": "display_data"
    }
   ],
   "source": [
    "# Load and Visialize MNIST dataloader\n",
    "batch_size = 256\n",
    "\n",
    "train_set = MNIST('./', download=True,\n",
    "        transform=transforms.Compose([\n",
    "        transforms.ToTensor(),\n",
    "]), train=True)\n",
    "train_loader = DataLoader(train_set, batch_size=batch_size, shuffle=True)\n",
    "\n",
    "test_set = MNIST('./', download=True,\n",
    "        transform=transforms.Compose([\n",
    "        transforms.ToTensor(),\n",
    "]), train=False)\n",
    "test_loader = DataLoader(test_set, batch_size=batch_size, shuffle=False)\n",
    "\n",
    "dataiter = iter(train_loader)\n",
    "images, labels = next(dataiter)\n",
    "images = images.numpy()\n",
    "\n",
    "# Plot the images\n",
    "fig = plt.figure(figsize=(25, 4))\n",
    "\n",
    "for idx in np.arange(8):\n",
    "    ax = fig.add_subplot(2, 4, idx+1, xticks=[], yticks=[])\n",
    "    ax.imshow(np.squeeze(images[idx]), cmap='gray')\n",
    "    ax.set_title(str(labels[idx].item()))\n",
    "\n",
    "plt.show()"
   ]
  },
  {
   "cell_type": "code",
   "execution_count": 10,
   "metadata": {},
   "outputs": [
    {
     "name": "stdout",
     "output_type": "stream",
     "text": [
      "Epoch 5 - Training loss: 0.0315\n",
      "Epoch 10 - Training loss: 0.0140\n",
      "Epoch 15 - Training loss: 0.0073\n",
      "Epoch 20 - Training loss: 0.0049\n",
      "Epoch 25 - Training loss: 0.0048\n",
      "Epoch 30 - Training loss: 0.0041\n"
     ]
    },
    {
     "data": {
      "image/png": "[encoded data removed]",
      "text/plain": [
       "<Figure size 1000x500 with 1 Axes>"
      ]
     },
     "metadata": {},
     "output_type": "display_data"
    }
   ],
   "source": [
    "# Train and Load Pre-trained Best Model parameters\n",
    "from SimplePruning_Toolbox.utils import train\n",
    "\n",
    "   \n",
    "epochs = 30\n",
    "best_loss = float('inf')\n",
    "losses = []\n",
    "\n",
    "for epoch in range(epochs):\n",
    "    avg_loss = train(model_LeNet, \n",
    "            train_loader, \n",
    "            device, \n",
    "            optimizer = optim.Adam(model_LeNet.parameters(), \n",
    "            lr=1e-3), \n",
    "            criterion = nn.CrossEntropyLoss(), mask=None)\n",
    "    if (epoch + 1) % 5 == 0:\n",
    "        print(f\"Epoch {epoch+1} - Training loss: {avg_loss:.4f}\")\n",
    "    losses.append(avg_loss)\n",
    "    if avg_loss < best_loss:\n",
    "        best_loss = avg_loss\n",
    "        torch.save(model_LeNet.state_dict(), 'best_model_LeNet.pth')\n",
    "plt.figure(figsize=(10, 5))\n",
    "plt.plot(losses)\n",
    "plt.xlabel('Epoch')\n",
    "plt.ylabel('Loss')\n",
    "plt.title('Training Loss per Epoch')\n",
    "plt.show()\n"
   ]
  },
  {
   "cell_type": "code",
   "execution_count": 11,
   "metadata": {},
   "outputs": [
    {
     "name": "stdout",
     "output_type": "stream",
     "text": [
      "Original model, Test Loss: 0.0459, Accuracy: 0.9919\n"
     ]
    }
   ],
   "source": [
    "# Display Un-pruned evaluation results\n",
    "model_LeNet.load_state_dict(torch.load('best_model_LeNet.pth'))\n",
    "test_loss, accuracy = evaluate(model_LeNet, test_loader, device, nn.CrossEntropyLoss())\n",
    "print(f'Original model, Test Loss: {test_loss:.4f}, Accuracy: {accuracy:.4f}')"
   ]
  },
  {
   "cell_type": "markdown",
   "metadata": {},
   "source": [
    "## 3.2 Pruning"
   ]
  },
  {
   "cell_type": "code",
   "execution_count": 12,
   "metadata": {},
   "outputs": [],
   "source": [
    "# Define ADMM Pruning method\n",
    "percent = [0.8, 0.92, 0.991, 0.93]"
   ]
  },
  {
   "cell_type": "code",
   "execution_count": 15,
   "metadata": {},
   "outputs": [
    {
     "name": "stdout",
     "output_type": "stream",
     "text": [
      "Epoch 1/10\n",
      "normalized norm of (weight - projection)\n",
      "(conv1.weight): 0.6036\n",
      "(conv2.weight): 0.7441\n",
      "(fc1.weight): 0.9464\n",
      "(fc2.weight): 0.7789\n",
      "Test Loss: 2.6973, Accuracy: 0.0975\n",
      "Epoch 2/10\n",
      "normalized norm of (weight - projection)\n",
      "(conv1.weight): 0.3135\n",
      "(conv2.weight): 0.4378\n",
      "(fc1.weight): 0.8562\n",
      "(fc2.weight): 0.3750\n",
      "Test Loss: 2.6040, Accuracy: 0.1139\n",
      "Epoch 3/10\n",
      "normalized norm of (weight - projection)\n",
      "(conv1.weight): 0.3299\n",
      "(conv2.weight): 0.4228\n",
      "(fc1.weight): 0.6783\n",
      "(fc2.weight): 0.2912\n",
      "Test Loss: 2.5212, Accuracy: 0.1291\n",
      "Epoch 4/10\n",
      "normalized norm of (weight - projection)\n",
      "(conv1.weight): 0.3634\n",
      "(conv2.weight): 0.4198\n",
      "(fc1.weight): 0.6445\n",
      "(fc2.weight): 0.2645\n",
      "Test Loss: 2.3757, Accuracy: 0.1939\n",
      "Epoch 5/10\n",
      "normalized norm of (weight - projection)\n",
      "(conv1.weight): 0.3299\n",
      "(conv2.weight): 0.4032\n",
      "(fc1.weight): 0.6477\n",
      "(fc2.weight): 0.2583\n",
      "Test Loss: 2.1870, Accuracy: 0.3194\n",
      "Epoch 6/10\n",
      "normalized norm of (weight - projection)\n",
      "(conv1.weight): 0.3294\n",
      "(conv2.weight): 0.3930\n",
      "(fc1.weight): 0.6696\n",
      "(fc2.weight): 0.2438\n",
      "Test Loss: 1.9525, Accuracy: 0.5028\n",
      "Epoch 7/10\n",
      "normalized norm of (weight - projection)\n",
      "(conv1.weight): 0.2663\n",
      "(conv2.weight): 0.3696\n",
      "(fc1.weight): 0.6886\n",
      "(fc2.weight): 0.2398\n",
      "Test Loss: 1.7289, Accuracy: 0.6563\n",
      "Epoch 8/10\n",
      "normalized norm of (weight - projection)\n",
      "(conv1.weight): 0.2660\n",
      "(conv2.weight): 0.3511\n",
      "(fc1.weight): 0.6941\n",
      "(fc2.weight): 0.2320\n",
      "Test Loss: 1.5110, Accuracy: 0.7597\n",
      "Epoch 9/10\n",
      "normalized norm of (weight - projection)\n",
      "(conv1.weight): 0.2489\n",
      "(conv2.weight): 0.3301\n",
      "(fc1.weight): 0.6982\n",
      "(fc2.weight): 0.2354\n",
      "Test Loss: 1.3081, Accuracy: 0.8229\n",
      "Epoch 10/10\n",
      "normalized norm of (weight - projection)\n",
      "(conv1.weight): 0.2168\n",
      "(conv2.weight): 0.3228\n",
      "(fc1.weight): 0.6978\n",
      "(fc2.weight): 0.2305\n",
      "Test Loss: 1.1130, Accuracy: 0.8791\n",
      "Pruned model, Test Loss: 0.7127, Accuracy: 0.8832\n"
     ]
    }
   ],
   "source": [
    "# Apply ADMM pruning method to LeNet-5\n",
    "model2 = LeNet5()\n",
    "train_set = MNIST('./', download=True,\n",
    "        transform=transforms.Compose([\n",
    "        transforms.ToTensor(),\n",
    "]), train=True)\n",
    "train_loader = DataLoader(train_set, batch_size=batch_size, shuffle=True)\n",
    "\n",
    "test_set = MNIST('./', download=True,\n",
    "        transform=transforms.Compose([\n",
    "        transforms.ToTensor(),\n",
    "]), train=False)\n",
    "test_loader = DataLoader(test_set, batch_size=batch_size, shuffle=False)\n",
    "model2.load_state_dict(torch.load('best_model_LeNet.pth'))\n",
    "pruned_model, mask = admm_pruning(model2, train_loader, percent)\n",
    "test_loss, accuracy = evaluate(pruned_model, test_loader, device, criterion = nn.CrossEntropyLoss())\n",
    "print(f'Pruned model, Test Loss: {test_loss:.4f}, Accuracy: {accuracy:.4f}')\n"
   ]
  },
  {
   "cell_type": "code",
   "execution_count": 17,
   "metadata": {},
   "outputs": [
    {
     "name": "stdout",
     "output_type": "stream",
     "text": [
      "Number of nonzero parameters in original model: 431080\n",
      "Number of nonzero parameters in pruned model: 6630\n"
     ]
    },
    {
     "data": {
      "image/png": "[encoded data removed]",
      "text/plain": [
       "<Figure size 1200x600 with 2 Axes>"
      ]
     },
     "metadata": {},
     "output_type": "display_data"
    }
   ],
   "source": [
    "# Visualize model parameter changes and model size changes of LeNet-5\n",
    "print(f'Number of nonzero parameters in original model: {count_nonzero_params(model_LeNet)}')\n",
    "print(f'Number of nonzero parameters in pruned model: {count_nonzero_params(pruned_model)}')\n",
    "\n",
    "# Plot the distribution of weights in the original and pruned models\n",
    "weights_leorignal = []\n",
    "weights_lepruned = []\n",
    "for param in model_LeNet.parameters():\n",
    "    weights_leorignal += list(param.cpu().detach().numpy().flatten())\n",
    "for param in pruned_model.parameters():\n",
    "    weights_lepruned += list(param.cpu().detach().numpy().flatten())\n",
    "\n",
    "plt.figure(figsize=(12, 6))\n",
    "plt.subplot(1, 2, 1)\n",
    "plt.hist(weights_leorignal, bins=50)\n",
    "plt.xlabel('Weight Values')\n",
    "plt.ylabel('Count')\n",
    "plt.title('Distribution of Weight Values in the Original Model')\n",
    "plt.xlim([-1, 1])\n",
    "\n",
    "plt.subplot(1, 2, 2)  \n",
    "plt.hist(weights_lepruned, bins=50)\n",
    "plt.xlabel('Weight Values')\n",
    "plt.ylabel('Count')\n",
    "plt.title('Distribution of Weight Values in the Pruned Model')\n",
    "plt.xlim([-1, 1])\n",
    "\n",
    "plt.tight_layout()\n",
    "plt.show()\n"
   ]
  },
  {
   "cell_type": "code",
   "execution_count": null,
   "metadata": {},
   "outputs": [
    {
     "name": "stdout",
     "output_type": "stream",
     "text": [
      "Epoch: 1, Test Loss: 0.5194, Accuracy: 0.8588\n",
      "Epoch: 2, Test Loss: 0.4420, Accuracy: 0.8830\n",
      "Epoch: 3, Test Loss: 0.4019, Accuracy: 0.8915\n",
      "Epoch: 4, Test Loss: 0.3575, Accuracy: 0.9024\n",
      "Epoch: 5, Test Loss: 0.3217, Accuracy: 0.9093\n"
     ]
    }
   ],
   "source": [
    "# Retrain the model of LeNet-5\n",
    "fine_tune_epochs = 5\n",
    "optimizer = optim.Adam(pruned_model.parameters(), lr=1e-3)\n",
    "for epoch in range(fine_tune_epochs):\n",
    "    utils.train(pruned_model, train_loader, device, optimizer=optimizer, criterion = nn.CrossEntropyLoss(), mask = mask)\n",
    "    test_loss, accuracy = evaluate(pruned_model, test_loader, device, criterion = nn.CrossEntropyLoss())\n",
    "    print(f'Epoch: {epoch + 1}, Test Loss: {test_loss:.4f}, Accuracy: {accuracy:.4f}')\n"
   ]
  },
  {
   "cell_type": "markdown",
   "metadata": {},
   "source": [
    "Comparison of origianl and pruned LeNet-5\n",
    "|  | Pretrained Model | Pruned Model | Retrained Model | Pruning Ratio |\n",
    "|---------|---------|---------|---------|---------|\n",
    "| Size |61706  | 3310 | 3310 | 94.64% |\n",
    "| Accuracy | 0.9914 | 0.8403 | 0.9093 | - |\n",
    "\n"
   ]
  },
  {
   "cell_type": "markdown",
   "metadata": {},
   "source": [
    "# 4. VGG-8"
   ]
  },
  {
   "cell_type": "markdown",
   "metadata": {},
   "source": [
    "## 4.1 Define the Network"
   ]
  },
  {
   "cell_type": "code",
   "execution_count": 15,
   "metadata": {},
   "outputs": [
    {
     "data": {
      "text/plain": [
       "<All keys matched successfully>"
      ]
     },
     "execution_count": 15,
     "metadata": {},
     "output_type": "execute_result"
    }
   ],
   "source": [
    "# Define and load VGG-8 Network\n",
    "model_VGG = VGG_8()\n",
    "model_VGG.load_state_dict(torch.load('models/VGG_best_model.pth'))"
   ]
  },
  {
   "cell_type": "code",
   "execution_count": 2,
   "metadata": {},
   "outputs": [
    {
     "name": "stdout",
     "output_type": "stream",
     "text": [
      "Files already downloaded and verified\n",
      "Files already downloaded and verified\n"
     ]
    }
   ],
   "source": [
    "batch_size = 512\n",
    "\n",
    "#Load data for training\n",
    "train_loader = torch.utils.data.DataLoader(\n",
    "            datasets.CIFAR10('data', train=True, download=True,\n",
    "                             transform=transforms.Compose([\n",
    "                                 transforms.ToTensor(),\n",
    "                                 transforms.Normalize((0.49139968, 0.48215827, 0.44653124),\n",
    "                                                      (0.24703233, 0.24348505, 0.26158768))\n",
    "                             ])), shuffle=True, batch_size=batch_size)\n",
    "\n",
    "#Load data for testing\n",
    "test_loader = torch.utils.data.DataLoader(\n",
    "            datasets.CIFAR10('data', train=False, download=True,\n",
    "                             transform=transforms.Compose([\n",
    "                                 transforms.ToTensor(),\n",
    "                                 transforms.Normalize((0.49139968, 0.48215827, 0.44653124),\n",
    "                                                      (0.24703233, 0.24348505, 0.26158768))\n",
    "                             ])), shuffle=True, batch_size=batch_size)"
   ]
  },
  {
   "cell_type": "markdown",
   "metadata": {},
   "source": [
    "## 4.2 pruning"
   ]
  },
  {
   "cell_type": "code",
   "execution_count": 10,
   "metadata": {},
   "outputs": [
    {
     "name": "stdout",
     "output_type": "stream",
     "text": [
      "Original model, Test Loss: 1.0378, Accuracy: 0.8021\n",
      "Epoch 1/10\n",
      "normalized norm of (weight - projection)\n",
      "(features.0.weight): 0.7570\n",
      "(features.2.weight): 0.5801\n",
      "(features.5.weight): 0.5881\n",
      "(features.7.weight): 0.6086\n",
      "(features.10.weight): 0.5962\n",
      "(features.12.weight): 0.5291\n",
      "(classifier.0.weight): 0.3717\n",
      "(classifier.3.weight): 0.5201\n",
      "(classifier.6.weight): 0.5265\n",
      "Test Loss: 9.2747, Accuracy: 0.1012\n",
      "Epoch 2/10\n",
      "normalized norm of (weight - projection)\n",
      "(features.0.weight): 0.3757\n",
      "(features.2.weight): 0.3007\n",
      "(features.5.weight): 0.2749\n",
      "(features.7.weight): 0.2957\n",
      "(features.10.weight): 0.2936\n",
      "(features.12.weight): 0.3274\n",
      "(classifier.0.weight): 0.3477\n",
      "(classifier.3.weight): 0.3784\n",
      "(classifier.6.weight): 0.2540\n",
      "Test Loss: 2.9315, Accuracy: 0.1512\n",
      "Epoch 3/10\n",
      "normalized norm of (weight - projection)\n",
      "(features.0.weight): 0.5102\n",
      "(features.2.weight): 0.3052\n",
      "(features.5.weight): 0.2871\n",
      "(features.7.weight): 0.3061\n",
      "(features.10.weight): 0.2980\n",
      "(features.12.weight): 0.2588\n",
      "(classifier.0.weight): 0.2172\n",
      "(classifier.3.weight): 0.2503\n",
      "(classifier.6.weight): 0.2785\n",
      "Test Loss: 2.7779, Accuracy: 0.2163\n",
      "Epoch 4/10\n",
      "normalized norm of (weight - projection)\n",
      "(features.0.weight): 0.5519\n",
      "(features.2.weight): 0.3253\n",
      "(features.5.weight): 0.3177\n",
      "(features.7.weight): 0.3304\n",
      "(features.10.weight): 0.3225\n",
      "(features.12.weight): 0.2677\n",
      "(classifier.0.weight): 0.1977\n",
      "(classifier.3.weight): 0.2175\n",
      "(classifier.6.weight): 0.2932\n",
      "Test Loss: 2.5376, Accuracy: 0.3183\n",
      "Epoch 5/10\n",
      "normalized norm of (weight - projection)\n",
      "(features.0.weight): 0.5589\n",
      "(features.2.weight): 0.3240\n",
      "(features.5.weight): 0.3187\n",
      "(features.7.weight): 0.3375\n",
      "(features.10.weight): 0.3264\n",
      "(features.12.weight): 0.2698\n",
      "(classifier.0.weight): 0.1853\n",
      "(classifier.3.weight): 0.1990\n",
      "(classifier.6.weight): 0.2971\n",
      "Test Loss: 2.0566, Accuracy: 0.5127\n",
      "Epoch 6/10\n",
      "normalized norm of (weight - projection)\n",
      "(features.0.weight): 0.5794\n",
      "(features.2.weight): 0.3212\n",
      "(features.5.weight): 0.3193\n",
      "(features.7.weight): 0.3382\n",
      "(features.10.weight): 0.3218\n",
      "(features.12.weight): 0.2634\n",
      "(classifier.0.weight): 0.1739\n",
      "(classifier.3.weight): 0.1818\n",
      "(classifier.6.weight): 0.2954\n",
      "Test Loss: 1.6375, Accuracy: 0.6486\n",
      "Epoch 7/10\n",
      "normalized norm of (weight - projection)\n",
      "(features.0.weight): 0.5611\n",
      "(features.2.weight): 0.3132\n",
      "(features.5.weight): 0.3139\n",
      "(features.7.weight): 0.3325\n",
      "(features.10.weight): 0.3188\n",
      "(features.12.weight): 0.2529\n",
      "(classifier.0.weight): 0.1620\n",
      "(classifier.3.weight): 0.1677\n",
      "(classifier.6.weight): 0.2878\n",
      "Test Loss: 1.3072, Accuracy: 0.7545\n",
      "Epoch 8/10\n",
      "normalized norm of (weight - projection)\n",
      "(features.0.weight): 0.5286\n",
      "(features.2.weight): 0.3046\n",
      "(features.5.weight): 0.3022\n",
      "(features.7.weight): 0.3194\n",
      "(features.10.weight): 0.3067\n",
      "(features.12.weight): 0.2440\n",
      "(classifier.0.weight): 0.1555\n",
      "(classifier.3.weight): 0.1563\n",
      "(classifier.6.weight): 0.2878\n",
      "Test Loss: 1.1012, Accuracy: 0.8140\n",
      "Epoch 9/10\n",
      "normalized norm of (weight - projection)\n",
      "(features.0.weight): 0.4888\n",
      "(features.2.weight): 0.2889\n",
      "(features.5.weight): 0.2916\n",
      "(features.7.weight): 0.3071\n",
      "(features.10.weight): 0.2960\n",
      "(features.12.weight): 0.2364\n",
      "(classifier.0.weight): 0.1470\n",
      "(classifier.3.weight): 0.1427\n",
      "(classifier.6.weight): 0.2689\n",
      "Test Loss: 0.9026, Accuracy: 0.8737\n",
      "Epoch 10/10\n",
      "normalized norm of (weight - projection)\n",
      "(features.0.weight): 0.4824\n",
      "(features.2.weight): 0.2761\n",
      "(features.5.weight): 0.2826\n",
      "(features.7.weight): 0.2962\n",
      "(features.10.weight): 0.2804\n",
      "(features.12.weight): 0.2281\n",
      "(classifier.0.weight): 0.1468\n",
      "(classifier.3.weight): 0.1334\n",
      "(classifier.6.weight): 0.2662\n",
      "Test Loss: 0.7629, Accuracy: 0.9175\n",
      "Pruned model, Test Loss: 0.7113, Accuracy: 0.7728\n"
     ]
    }
   ],
   "source": [
    "# Apply ADMM pruning method to AlexNet\n",
    "model_VGG_2 = VGG_8()\n",
    "percent = [0.85] * 9\n",
    "model_VGG_2.load_state_dict(torch.load('models/VGG_best_model.pth'))\n",
    "test_loss, accuracy = evaluate(model_VGG_2, test_loader, device, criterion = nn.CrossEntropyLoss())\n",
    "print(f'Original model, Test Loss: {test_loss:.4f}, Accuracy: {accuracy:.4f}')\n",
    "pruned_model, mask = admm_pruning(model_VGG_2, train_loader, percent)\n",
    "test_loss, accuracy = evaluate(pruned_model, test_loader, device, criterion = nn.CrossEntropyLoss())\n",
    "print(f'Pruned model, Test Loss: {test_loss:.4f}, Accuracy: {accuracy:.4f}')"
   ]
  },
  {
   "cell_type": "code",
   "execution_count": 11,
   "metadata": {},
   "outputs": [
    {
     "name": "stdout",
     "output_type": "stream",
     "text": [
      "Epoch: 1, Test Loss: 0.6920, Accuracy: 0.7836\n",
      "Epoch: 2, Test Loss: 0.6800, Accuracy: 0.7918\n",
      "Epoch: 3, Test Loss: 0.6847, Accuracy: 0.7958\n",
      "Epoch: 4, Test Loss: 0.7025, Accuracy: 0.8014\n",
      "Epoch: 5, Test Loss: 0.7124, Accuracy: 0.8018\n"
     ]
    }
   ],
   "source": [
    "# Retrain the model of VGG-8\n",
    "fine_tune_epochs = 5\n",
    "optimizer = optim.Adam(pruned_model.parameters(), lr=1e-3)\n",
    "for epoch in range(fine_tune_epochs):\n",
    "    train(pruned_model, train_loader, device, optimizer=optimizer, criterion = nn.CrossEntropyLoss(), mask=mask)\n",
    "    test_loss, accuracy = evaluate(pruned_model, test_loader, device, criterion = nn.CrossEntropyLoss())\n",
    "    print(f'Epoch: {epoch + 1}, Test Loss: {test_loss:.4f}, Accuracy: {accuracy:.4f}')\n"
   ]
  },
  {
   "cell_type": "code",
   "execution_count": 17,
   "metadata": {},
   "outputs": [
    {
     "name": "stdout",
     "output_type": "stream",
     "text": [
      "Number of nonzero parameters in original model: 6400586\n",
      "Number of nonzero parameters in pruned model: 962603\n"
     ]
    },
    {
     "data": {
      "image/png": "[encoded data removed]",
      "text/plain": [
       "<Figure size 864x432 with 2 Axes>"
      ]
     },
     "metadata": {
      "needs_background": "light"
     },
     "output_type": "display_data"
    }
   ],
   "source": [
    "# Visualize model parameter changes and model size changes of VGG-8\n",
    "print(f'Number of nonzero parameters in original model: {count_nonzero_params(model_VGG)}')\n",
    "print(f'Number of nonzero parameters in pruned model: {count_nonzero_params(pruned_model)}')\n",
    "\n",
    "# Plot the distribution of weights in the original and pruned models\n",
    "weights_leorignal = []\n",
    "weights_lepruned = []\n",
    "for param in model_VGG.parameters():\n",
    "    weights_leorignal += list(param.cpu().detach().numpy().flatten())\n",
    "for param in pruned_model.parameters():\n",
    "    weights_lepruned += list(param.cpu().detach().numpy().flatten())\n",
    "\n",
    "plt.figure(figsize=(12, 6))\n",
    "plt.subplot(1, 2, 1)\n",
    "plt.hist(weights_leorignal, bins=50)\n",
    "plt.xlabel('Weight Values')\n",
    "plt.ylabel('Count')\n",
    "plt.title('Distribution of Weight Values in the Original Model')\n",
    "plt.xlim([-1, 1])\n",
    "\n",
    "plt.subplot(1, 2, 2)  \n",
    "plt.hist(weights_lepruned, bins=50)\n",
    "plt.xlabel('Weight Values')\n",
    "plt.ylabel('Count')\n",
    "plt.title('Distribution of Weight Values in the Pruned Model')\n",
    "plt.xlim([-1, 1])\n",
    "\n",
    "plt.tight_layout()\n",
    "plt.show()\n"
   ]
  },
  {
   "cell_type": "markdown",
   "metadata": {},
   "source": [
    "|  | Pretrained Model | Pruned Model | Retrained Model | Pruning Ratio |\n",
    "|---------|---------|---------|---------|---------|\n",
    "| Size |6400586  | 962603 | 962603 | 84.96% |\n",
    "| Accuracy | 0.8021 | 0.7728 | 0.8018 | - |\n"
   ]
  }
 ],
 "metadata": {
  "kernelspec": {
   "display_name": "Python 3 (ipykernel)",
   "language": "python",
   "name": "python3"
  },
  "language_info": {
   "codemirror_mode": {
    "name": "ipython",
    "version": 3
   },
   "file_extension": ".py",
   "mimetype": "text/x-python",
   "name": "python",
   "nbconvert_exporter": "python",
   "pygments_lexer": "ipython3",
   "version": "3.10.13"
  }
 },
 "nbformat": 4,
 "nbformat_minor": 2
}
